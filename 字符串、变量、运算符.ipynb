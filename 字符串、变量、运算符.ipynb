{
 "cells": [
  {
   "cell_type": "markdown",
   "metadata": {},
   "source": [
    "# 字符串\n",
    "- 转义字符\n",
    "- 格式化\n",
    "- 内建函数（后延）\n",
    "## 转移字符\n",
    "- 用一个特殊方法表示出一系列不方便写出的内容，比如回车键，换行键，退格键\n",
    "- 借助反斜杠字符，一旦字符串出现反斜杠，则反斜杠以后的一个字符表示不是原来的意思，进行了转义\n",
    "- 在字符串中，出现反斜杠，可能有转义字符出现"
   ]
  },
  {
   "cell_type": "code",
   "execution_count": 2,
   "metadata": {},
   "outputs": [
    {
     "name": "stdout",
     "output_type": "stream",
     "text": [
      " I Love Python\n"
     ]
    }
   ],
   "source": [
    "s = \" I Love Python\"\n",
    "print(s)"
   ]
  },
  {
   "cell_type": "code",
   "execution_count": 7,
   "metadata": {},
   "outputs": [
    {
     "name": "stdout",
     "output_type": "stream",
     "text": [
      "Let's Go\n",
      "Let's Go\n",
      "c:\\User\n",
      "I Love \n",
      "Python\n"
     ]
    }
   ],
   "source": [
    "# 如果想表示出 Let's Go\n",
    "# 1.可以用嵌套引号，即外层使用双引号\n",
    "# 2.转义字符\n",
    "s = \"Let's Go\"\n",
    "print(s)\n",
    "ss='Let\\'s Go'\n",
    "print(ss)\n",
    "\n",
    "#打印出反斜杠\n",
    "sss=\"c:\\\\User\"\n",
    "print(sss)\n",
    "\n",
    "#回车换行符\n",
    "s1=\"I Love \\nPython\"\n",
    "print(s1)"
   ]
  },
  {
   "cell_type": "markdown",
   "metadata": {},
   "source": [
    "# 字符串的格式化\n",
    "- 把字符串按照一定格式打印或者填充\n",
    "- 格式化的两种方法\n",
    "    - 利用百分号\n",
    "    - 利用format函数"
   ]
  },
  {
   "cell_type": "markdown",
   "metadata": {},
   "source": [
    "## 利用百分号格式化\n",
    "- 在字符串中，利用%表示一个特殊的含义，表示对字符串进行格式化\n",
    "- %d：表示此处应该放一个整数\n",
    "- %s：表示此处应该放一个字符串"
   ]
  },
  {
   "cell_type": "code",
   "execution_count": 9,
   "metadata": {},
   "outputs": [
    {
     "name": "stdout",
     "output_type": "stream",
     "text": [
      "I Love %s\n",
      "I Love Python\n"
     ]
    }
   ],
   "source": [
    "s = \"I Love %s\"\n",
    "print(s)#直接作为字符串的一个内容打印\n",
    "\n",
    "print(s%\"Python\")"
   ]
  },
  {
   "cell_type": "code",
   "execution_count": 16,
   "metadata": {},
   "outputs": [
    {
     "name": "stdout",
     "output_type": "stream",
     "text": [
      "I am 张三,I am 18 years old\n"
     ]
    }
   ],
   "source": [
    "s = \"I am %s,I am %d years old\"\n",
    "print(s%(\"张三\",18))"
   ]
  },
  {
   "cell_type": "markdown",
   "metadata": {},
   "source": [
    "## format函数格式化字符\n",
    "- 直接使用format函数进行格式化\n",
    "- 以{}和:代替%，后面用format带参数完成"
   ]
  },
  {
   "cell_type": "code",
   "execution_count": 23,
   "metadata": {},
   "outputs": [
    {
     "name": "stdout",
     "output_type": "stream",
     "text": [
      "I Love Python\n",
      " I am 罗翔,I love 张三,I am 罗翔\n"
     ]
    }
   ],
   "source": [
    "s = \"I Love {}\".format(\"Python\")\n",
    "print(s)\n",
    "\n",
    "s = \" I am {1},I love {0},I am {1}\".format(\"张三\",\"罗翔\")\n",
    "print(s)"
   ]
  },
  {
   "cell_type": "markdown",
   "metadata": {},
   "source": [
    "## None\n",
    "- 表示什么都没有\n",
    "- 如果函数没有返回值，可以返回None\n",
    "- 用来占位\n",
    "- 用来接触变量绑定"
   ]
  },
  {
   "cell_type": "markdown",
   "metadata": {},
   "source": [
    "# 表达式\n",
    "- 有一个或者几个数字或者变量和运算符组成的一行代码\n",
    "- 通常会返回一个结果"
   ]
  },
  {
   "cell_type": "markdown",
   "metadata": {},
   "source": [
    "# 运算符\n",
    "- 由一个以上的值经过变化得到新值的过程就叫做原酸\n",
    "- 用于运算的符号叫做运算符\n",
    "- 运算符分类：\n",
    "    - 算数运算符\n",
    "    - 比较运算符/关系运算符\n",
    "    - 逻辑运算符\n",
    "    - 位运算\n",
    "    - 成员运算符\n",
    "    - 身份运算符"
   ]
  },
  {
   "cell_type": "markdown",
   "metadata": {},
   "source": [
    "## 算符运算符\n",
    "- 进行算运算的符号，+、-、*、/\n",
    "    - (/)在Python2.x和Python3.x中的结果可能不一致\n",
    "    - % ：取余操作\n",
    "    - // ：取商运算（取整），也叫底板除\n",
    "    - ** ：商运算，例如2**10=1024\n",
    "- Python 中没有自增自减运算符\n"
   ]
  },
  {
   "cell_type": "markdown",
   "metadata": {},
   "source": [
    "## 比较运算符\n",
    "- 对两个变量或者值进行比较的运算符\n",
    "- 比较的结果是布尔值，即 Ture/False\n",
    "- == ：等于\n",
    "- != ：不等于\n",
    "- >,<,>=,<= 大于，小于，大于等于，小于等于"
   ]
  },
  {
   "cell_type": "markdown",
   "metadata": {},
   "source": [
    "## 赋值运算符\n",
    "- = ：给变量赋值\n",
    "- 数学运算符都有缩写,例如：\n",
    "    - a = a + 7 可以写成 a += 7\n",
    "    - a = a % 7 可以写成 a %= 7 "
   ]
  },
  {
   "cell_type": "markdown",
   "metadata": {},
   "source": [
    "## 逻辑运算符\n",
    "- 对布尔值进行计算的符号\n",
    "- and 逻辑与\n",
    "- or 逻辑或\n",
    "- not 逻辑非\n",
    "- Python中没有异或逻辑运算符\n",
    "- 运算规则\n",
    "    - Ture看做1，Fals看做0\n",
    "    - 可以跟1或0相互转化\n",
    "    - 0 是False,其他整数都是Ture\n",
    "- 逻辑运算短路\n",
    "    - 逻辑运算式，按照运算顺序计算，一旦能够确定整个式子未来的值，则不再进行计算，直接返回"
   ]
  },
  {
   "attachments": {},
   "cell_type": "markdown",
   "metadata": {},
   "source": [
    "## 成员运算符号\n",
    "- 用来检测一个变量是否是另一个变量的成员\n",
    "- in\n",
    "- not in"
   ]
  },
  {
   "cell_type": "markdown",
   "metadata": {},
   "source": [
    "## 身份运算符\n",
    "- 用来检测两个变量是否是__同一个__变量\n",
    "    - is\n",
    "    - is not"
   ]
  },
  {
   "cell_type": "markdown",
   "metadata": {},
   "source": [
    "## 运算符优先级\n",
    "- 永远记住，括号具有最高优先级\n",
    "- 【注】从低到高\n",
    "\n",
    "      运算符\t描述\n",
    "      lambda\tLambda表达式\n",
    "       or\t布尔“或”\n",
    "       and\t布尔“与”\n",
    "       not x\t布尔“非”\n",
    "       in，not in\t成员测试\n",
    "       is，is not\t同一性测试\n",
    "       <，<=，>，>=，!=，==\t比较\n",
    "       |\t按位或\n",
    "       ^\t按位异或\n",
    "       &\t按位与\n",
    "       <<，>>\t移位\n",
    "       +，-\t加法与减法\n",
    "       *，/，%\t乘法、除法与取余\n",
    "       +x，-x\t正负号\n",
    "       ~x\t按位翻转"
   ]
  }
 ],
 "metadata": {
  "kernelspec": {
   "display_name": "Python 3",
   "language": "python",
   "name": "python3"
  },
  "language_info": {
   "codemirror_mode": {
    "name": "ipython",
    "version": 3
   },
   "file_extension": ".py",
   "mimetype": "text/x-python",
   "name": "python",
   "nbconvert_exporter": "python",
   "pygments_lexer": "ipython3",
   "version": "3.8.5"
  }
 },
 "nbformat": 4,
 "nbformat_minor": 4
}
