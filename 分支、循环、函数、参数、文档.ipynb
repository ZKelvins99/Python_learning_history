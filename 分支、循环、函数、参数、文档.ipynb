{
 "cells": [
  {
   "cell_type": "markdown",
   "metadata": {},
   "source": [
    "# 三大结构\n",
    "- 顺序\n",
    "- 分支\n",
    "- 循环"
   ]
  },
  {
   "cell_type": "markdown",
   "metadata": {},
   "source": [
    "## 分支\n",
    "- 分支的基本语法\n",
    "\n",
    "        if 条件表达式:\n",
    "            语句1\n",
    "            语句2\n",
    "            语句3\n",
    "            ....\n",
    "- 条件表达式就是计算结果必须为布尔值的表达式\n",
    "- 表达式后面的冒号不能少\n",
    "- 如果属于一个if语句，必须是同一个缩进等级\n",
    "- 条件表达式结果为True，则执行if后面的语句块"
   ]
  },
  {
   "cell_type": "markdown",
   "metadata": {},
   "source": [
    "## 双向分支\n",
    "- if...esle...语句\n",
    "        if 条件表达式：\n",
    "            语句块1\n",
    "            语句块2\n",
    "            ...\n",
    "        else 条件表达式：\n",
    "            语句块1\n",
    "            语句块2\n",
    "            ...\n",
    "- 双相分支有两个分支，当程序执行到if...else...语句的时候，一定会执行if或者else中的一个，也仅执行一个\n",
    "- 缩进问题，if和else同一个层级，语句块一个层级"
   ]
  },
  {
   "cell_type": "markdown",
   "metadata": {},
   "source": [
    "## 多路分支\n",
    "- 有很多分支的情况，建成多路分支\n",
    "        \n",
    "        if 条件表达式：\n",
    "            语句块\n",
    "            ...\n",
    "        elif 条件表达式：\n",
    "            语句块\n",
    "            ...\n",
    "        elif 条件表达式：\n",
    "            语句块\n",
    "            ...\n",
    "        ...\n",
    "        else：\n",
    "            语句块\n",
    "            ...\n",
    "- elif可以有无限多个"
   ]
  },
  {
   "cell_type": "markdown",
   "metadata": {},
   "source": [
    "## if语句其他：\n",
    "- if语句可以嵌套使用，但是不推荐\n",
    "- Python中没有switch-case语句"
   ]
  },
  {
   "cell_type": "markdown",
   "metadata": {},
   "source": [
    "# 循环语句\n",
    "- 重复执行某些固定动作或者处理基本固定的事物\n",
    "- 分类\n",
    "    - for循环\n",
    "    - while循环\n",
    "- 在循环中如果变量的名称不重要，可以用下划线/_表示\n",
    "## for循环\n",
    "- for循环\n",
    "        \n",
    "        for 变量 in 序列：\n",
    "            语句1\n",
    "            语句2\n",
    "            ..."
   ]
  },
  {
   "cell_type": "markdown",
   "metadata": {},
   "source": [
    "## range(a,b)\n",
    "- 生成一个数字序列\n",
    "- 范围可以自定义\n",
    "- 左包括，右不包括"
   ]
  },
  {
   "cell_type": "markdown",
   "metadata": {},
   "source": [
    "## for-else语句\n",
    "- 当for语句结束的时候，会执行else语句\n",
    "- else语句是可选语句\n"
   ]
  },
  {
   "cell_type": "markdown",
   "metadata": {},
   "source": [
    "## 循环中的 break，continue，pass\n",
    "- break：无条件结束整个循环，又称循环猝死\n",
    "- continue：无条件结束本次循环，重新进入下一轮循环\n",
    "- pass：占位，无任何实际意义"
   ]
  },
  {
   "cell_type": "markdown",
   "metadata": {},
   "source": [
    "## while循环\n",
    "- 一种循环语句\n",
    "- 表示当某条件成立的时候，就循环\n",
    "- 不知道具体循环次数，但是能确定循环的成立条件的时候\n",
    "- while语法\n",
    "        \n",
    "        while 条件表达式:\n",
    "            语句块"
   ]
  },
  {
   "cell_type": "markdown",
   "metadata": {},
   "source": [
    "## 函数\n",
    "- 代码的一种组织形式\n",
    "- 一个函数一般完成一项特定的功能\n",
    "- 函数使用\n",
    "    - 函数需要先定义\n",
    "    - 使用函数，俗称调用"
   ]
  },
  {
   "cell_type": "markdown",
   "metadata": {},
   "source": [
    "## 函数的参数和返回值\n",
    "- 参数：负责给函数传递一些必要的数据或者信息\n",
    "    - 形参（形式参数）：在函数定义的时候用到的参数没有具体值，只是一个占位发符号，称为形参\n",
    "    - 实参（实际参数）：在调用函数的时候输入的值\n",
    "- 返回值：函数的执行结果\n",
    "    - 使用return关键字"
   ]
  },
  {
   "cell_type": "markdown",
   "metadata": {},
   "source": [
    "## 参数香型\n",
    "- 参数分类\n",
    "    - 普通参数\n",
    "    - 默认参数\n",
    "    - 关键字参数\n",
    "    - 收集参数\n",
    "- 普通参数\n",
    "    - 定义的时候直接定义变量名\n",
    "    - 调用的时候直接把变量或者值放到指定位置\n",
    "        \n",
    "        def 函数（参数1，参数2，...）\n",
    "        \n",
    "              函数体\n",
    "        调用\n",
    "        \n",
    "            函数名(value1,value2,...)\n",
    "        \n",
    "        调用的时候，具体参考的是位置，按照位置赋值\n",
    "- 默认参数\n",
    "    - 形参带有默认值\n",
    "    - 调用的时候，如果没有相对应的形参赋值，则使用默认值\n",
    "        \n",
    "            def func_name(p1=v1,p2=v2,....):\n",
    "            \n",
    "                func_block\n",
    "                \n",
    "            调用1\n",
    "            \n",
    "                func_name()\n",
    "                \n",
    "            调用2\n",
    "            \n",
    "                value1 = 100\n",
    "                value2 = 200\n",
    "                func_name(value1,value2)"
   ]
  },
  {
   "cell_type": "markdown",
   "metadata": {},
   "source": [
    "## 关键字参数\n",
    "- 语法\n",
    "\n",
    "        def func(p1=v1,p2=v2,...)\n",
    "        \n",
    "            func_body\n",
    "            \n",
    "        调用函数：\n",
    "        \n",
    "        func(p1=value1,p2=value2,...)\n",
    "        \n",
    "- 比较麻烦，但也有好处\n",
    "    - 不容易混淆，一般形参和实参只是按照位置一一对应，容易出错\n",
    "    - 使用关键字参数，可以不考虑参数位置"
   ]
  },
  {
   "cell_type": "markdown",
   "metadata": {},
   "source": [
    "## 收集参数\n",
    "- 把没有位置、不能喝定义时的参数位置相对应的参数放到一个特定的数据结构中\n",
    "- 语法\n",
    "\n",
    "        def func(*args):\n",
    "        \n",
    "            func_body\n",
    "            #按照list使用方式访问args得到传入的参数\n",
    "            \n",
    "        调用：\n",
    "        \n",
    "        func(p1,p2,p3,...)\n",
    "- 参数args可以不必须这样写，但是推荐使用\n",
    "- 参数名args前面需要有（*）星号\n",
    "- 收集参数可以和其他参数一块共存"
   ]
  },
  {
   "cell_type": "code",
   "execution_count": 5,
   "metadata": {},
   "outputs": [
    {
     "name": "stdout",
     "output_type": "stream",
     "text": [
      "自我介绍:\n",
      "<class 'tuple'>\n",
      "zhangsan\n",
      "18\n",
      "罗翔\n",
      "single\n",
      "自我介绍:\n",
      "<class 'tuple'>\n",
      "zhangsan\n"
     ]
    }
   ],
   "source": [
    "# 收集参数代码\n",
    "# 函数模拟一个学生进行自我介绍，但是具体内容不清楚\n",
    "\n",
    "def stu(*args):\n",
    "    print(\"自我介绍:\")\n",
    "    print(type(args))\n",
    "    for item in args:\n",
    "        print(item)\n",
    "\n",
    "stu(\"zhangsan\",18,\"罗翔\",\"single\")\n",
    "\n",
    "stu(\"zhangsan\")"
   ]
  },
  {
   "cell_type": "markdown",
   "metadata": {},
   "source": [
    "## 收集参数中关键字收集参数\n",
    "- 把关键字按照字典的格式存入收集参数中\n",
    "- 语法:\n",
    "        \n",
    "        def func(**kwargs):\n",
    "            func_body\n",
    "            \n",
    "        调用\n",
    "        \n",
    "        func(p1=v1,p2=v2,p3=v3,...)\n",
    "        \n",
    "        - kwargs一般约定俗成\n",
    "        - 调用时，把多余的关键字参数放到kwargs中\n",
    "        - 访问kwargs需要按照字典格式访问"
   ]
  },
  {
   "cell_type": "code",
   "execution_count": 6,
   "metadata": {},
   "outputs": [
    {
     "name": "stdout",
     "output_type": "stream",
     "text": [
      "自我介绍：\n",
      "<class 'dict'>\n",
      "name --- zhangsan\n",
      "age --- 18\n",
      "addr --- jail\n",
      "lover --- 罗翔\n"
     ]
    }
   ],
   "source": [
    "# 关键字收集参数\n",
    "# 调用的时候需要使用关键字参数调用\n",
    "\n",
    "def stu(**kwargs):\n",
    "    print(\"自我介绍：\")\n",
    "    print(type(kwargs))\n",
    "    \n",
    "    for k,v in kwargs.items():\n",
    "        print(k,\"---\",v)\n",
    "\n",
    "stu(name=\"zhangsan\",age=18,addr=\"jail\",lover=\"罗翔\")"
   ]
  },
  {
   "cell_type": "markdown",
   "metadata": {},
   "source": [
    "## 收集参数混合调用的顺序问题\n",
    "- 收集参数，关键字参数，普通参数可以混合使用\n",
    "- 使用规则是，普通参数和关键字参数优先\n",
    "- 定义的时候一般找普通参数，关键字参数，收集参数tuple，收集参数dict"
   ]
  },
  {
   "cell_type": "code",
   "execution_count": 33,
   "metadata": {},
   "outputs": [
    {
     "name": "stdout",
     "output_type": "stream",
     "text": [
      "Hello,everyone!\n",
      "我叫zhangsan,我18了\n",
      "没有爱好\n",
      "####################\n",
      "Hello,everyone!\n",
      "我叫zhangsan,我18了\n",
      "我的爱好是go to jail\n",
      "####################\n",
      "Hello,everyone!\n",
      "我叫zhangsan,我18了\n",
      "没有爱好\n",
      "luoxiang\n",
      "wangwu\n",
      "####################\n",
      "hobby1 --- youyong\n",
      "hobby2 --- watch\n",
      "hobby3 --- grils\n"
     ]
    }
   ],
   "source": [
    "# 收集参数混合调用\n",
    "# stu1摸你一个学生的自我介绍\n",
    "\n",
    "def stu(name,age,*args,h=\"没有\",**kwargs):\n",
    "    print(\"Hello,everyone!\")\n",
    "    print(\"我叫{0},我{1}了\".format(name,age))\n",
    "    if h == \"没有\":\n",
    "        print(\"没有爱好\")\n",
    "    else:\n",
    "        print(\"我的爱好是{0}\".format(h))\n",
    "    \n",
    "    for i in args:\n",
    "        print(i)\n",
    "    print(\"#\"*20)\n",
    "    \n",
    "    for k,v in kwargs.items():\n",
    "        print(k,\"---\",v)\n",
    "#开始调用\n",
    "name = \"zhangsan\"\n",
    "age = \"18\"\n",
    "#调用不同格式\n",
    "\n",
    "stu(name,age)\n",
    "\n",
    "stu(name,age,h = \"go to jail\")\n",
    "stu(name,age,\"luoxiang\",\"wangwu\",hobby1=\"youyong\",hobby2=\"watch\",hobby3 = \"grils\")\n"
   ]
  },
  {
   "cell_type": "markdown",
   "metadata": {},
   "source": [
    "##  收集参数的解包问题\n",
    "- 把参数放到list或者字典中，直接把list/dict中的值放到收集参数中\n",
    "- 语法"
   ]
  },
  {
   "cell_type": "code",
   "execution_count": 40,
   "metadata": {},
   "outputs": [
    {
     "name": "stdout",
     "output_type": "stream",
     "text": [
      "hahaha\n",
      "<class 'list'>\n",
      "0\n",
      "['liuying', 19, 20, 'liuxiaoying']\n",
      "hahaha\n",
      "<class 'str'>\n",
      "0\n",
      "liuying\n",
      "<class 'int'>\n",
      "1\n",
      "19\n",
      "<class 'int'>\n",
      "2\n",
      "20\n",
      "<class 'str'>\n",
      "3\n",
      "liuxiaoying\n"
     ]
    }
   ],
   "source": [
    "# 收集参数的解包问题\n",
    "def stu1(*args):\n",
    "    print(\"hahaha\")\n",
    "    n = 0\n",
    "    for i in args:\n",
    "        print(type(i))\n",
    "        print(n)\n",
    "        n+=1\n",
    "        print(i)\n",
    "#stu1(\"liuying\",\"liuxiaoying\",19,20)\n",
    "\n",
    "l = [\"liuying\",19,20,\"liuxiaoying\"]\n",
    "stu1(l)\n",
    "#此时，args的表示形式是字典内一个list类型的元素，即args=l\n",
    "\n",
    "#此时我们需要解包\n",
    "stu1(*l)"
   ]
  },
  {
   "cell_type": "markdown",
   "metadata": {},
   "source": [
    "## 同理，dict类型收集参数一样需要解包但是\n",
    "- 对dict类型进行解包\n",
    "- 需要两个型号进行解包"
   ]
  },
  {
   "cell_type": "markdown",
   "metadata": {},
   "source": [
    "## 返回值\n",
    "- 函数和过程的区别\n",
    "    - 有无返回值\n",
    "- 需要用return返回内容\n",
    "- 如果没有返回，则默认返回None"
   ]
  },
  {
   "cell_type": "markdown",
   "metadata": {},
   "source": [
    "## 函数文档\n",
    "- 函数的文档的作用是对当前函数提供使用相关的参考信息\n",
    "- 文档的写法\n",
    "    - 在函数内部开始的第一行使用三字符串定义符\n",
    "    - 一般具有特定格式\n",
    "    - 参看案例\n",
    "- 文档的查看\n",
    "    - help函数\n",
    "    - 使用./_/_ doc/_/_\n",
    "    "
   ]
  },
  {
   "cell_type": "code",
   "execution_count": 45,
   "metadata": {},
   "outputs": [
    {
     "name": "stdout",
     "output_type": "stream",
     "text": [
      "Help on function stu in module __main__:\n",
      "\n",
      "stu(name, age, *args)\n",
      "    这是文档第一行\n",
      "    这是文档第二行\n",
      "    这是文档第三行\n",
      "    ...\n",
      "\n",
      "******************************\n",
      "\n",
      "    这是文档第一行\n",
      "    这是文档第二行\n",
      "    这是文档第三行\n",
      "    ...\n",
      "    \n"
     ]
    }
   ],
   "source": [
    "# 文档案例\n",
    "# 函数stu是模拟学生自我介绍\n",
    "def stu(name,age,*args):\n",
    "    '''\n",
    "    这是文档第一行\n",
    "    这是文档第二行\n",
    "    这是文档第三行\n",
    "    ...\n",
    "    '''\n",
    "    print(\"Hello,world!\")\n",
    "\n",
    "help(stu) #使用help函数查看函数文档\n",
    "print(\"*\"*30)\n",
    "print(stu.__doc__)#使用__doc__也可以查看文档"
   ]
  }
 ],
 "metadata": {
  "kernelspec": {
   "display_name": "Python 3",
   "language": "python",
   "name": "python3"
  },
  "language_info": {
   "codemirror_mode": {
    "name": "ipython",
    "version": 3
   },
   "file_extension": ".py",
   "mimetype": "text/x-python",
   "name": "python",
   "nbconvert_exporter": "python",
   "pygments_lexer": "ipython3",
   "version": "3.8.5"
  }
 },
 "nbformat": 4,
 "nbformat_minor": 4
}
