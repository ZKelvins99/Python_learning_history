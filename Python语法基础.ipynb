{
 "cells": [
  {
   "cell_type": "markdown",
   "metadata": {},
   "source": [
    "# 主要内容\n",
    "- Python语法基础\n"
   ]
  },
  {
   "cell_type": "code",
   "execution_count": 1,
   "metadata": {},
   "outputs": [
    {
     "name": "stdout",
     "output_type": "stream",
     "text": [
      "i love python\n"
     ]
    }
   ],
   "source": [
    "print(\"i love python\")"
   ]
  },
  {
   "cell_type": "code",
   "execution_count": 6,
   "metadata": {},
   "outputs": [
    {
     "name": "stdout",
     "output_type": "stream",
     "text": [
      "I Love Python\n",
      "I Love python 我爱Python me to\n"
     ]
    }
   ],
   "source": [
    "#声明的三种格式\n",
    "#格式1\n",
    "s=\"I Love Python\"\n",
    "print(s)\n",
    "#格式2\n",
    "s2=s3=\"I Love Python to\"\n",
    "#格式3\n",
    "s4,s5,s6=\"I Love python\",\"我爱Python\",\"me to\"\n",
    "print(s4,s5,s6)\n"
   ]
  },
  {
   "cell_type": "markdown",
   "metadata": {},
   "source": [
    "# 变量类型\n",
    "- 严格意义上讲，Python中只有一种类型    \n",
    "- 标准数据类型六中\n",
    "  - 数字 Number\n",
    "  - 字符串 str\n",
    "  - 列表 list\n",
    "  - 元组 tuper\n",
    "  - 字典 dict\n",
    "  - 集合 set\n",
    "  \n"
   ]
  },
  {
   "cell_type": "markdown",
   "metadata": {},
   "source": [
    "# 数据类型 Number\n",
    "- Python 中数字没有大小限制\n",
    "# 常见数字分类\n",
    "\n",
    "- 整数\n",
    "  - 没有小数部分\n",
    "  - 包含整数、负数、0\n",
    "  - 二进制\n",
    "    - 只有0、1\n",
    "    - 以0b开头\n",
    "    - 例如：\n",
    "      - 0b110\n",
    "  - 八进制\n",
    "    - 以0o开头，0-7组成\n",
    "    - 例如：\n",
    "      - 0o677\n",
    "  - 十六进制\n",
    "    - 以0x开头，0-9、a-f组成的数字\n",
    "    - 例如：\n",
    "      - 0xffff\n",
    "\n",
    "\n",
    "- 浮点型\n",
    "- 科学计数法\n",
    "- 复数"
   ]
  },
  {
   "cell_type": "code",
   "execution_count": 10,
   "metadata": {},
   "outputs": [
    {
     "name": "stdout",
     "output_type": "stream",
     "text": [
      "6\n"
     ]
    }
   ],
   "source": [
    "#二进制\n",
    "a=0b110\n",
    "print(a)"
   ]
  },
  {
   "cell_type": "code",
   "execution_count": 11,
   "metadata": {},
   "outputs": [
    {
     "name": "stdout",
     "output_type": "stream",
     "text": [
      "447\n"
     ]
    }
   ],
   "source": [
    "#八进制\n",
    "a=0o677\n",
    "print(a)"
   ]
  },
  {
   "cell_type": "code",
   "execution_count": 12,
   "metadata": {},
   "outputs": [
    {
     "name": "stdout",
     "output_type": "stream",
     "text": [
      "65535\n"
     ]
    }
   ],
   "source": [
    "#十六进制\n",
    "a=0xffff\n",
    "print(a)"
   ]
  },
  {
   "cell_type": "markdown",
   "metadata": {},
   "source": [
    "## 浮点型\n",
    "- 传统意义的小数\n",
    "- 例如：\n",
    "  - 3.1415\n",
    "  - 3.\n",
    "  - 0.4\n",
    "  - .4\n",
    "- 科学计数法\n",
    "  - 跟数定义一致\n",
    "  - 表示方法位数字加上e后边0的个数\n",
    "  - 1800=1.8e3\n",
    "\n",
    "  "
   ]
  },
  {
   "cell_type": "code",
   "execution_count": 13,
   "metadata": {},
   "outputs": [
    {
     "name": "stdout",
     "output_type": "stream",
     "text": [
      "1800.0\n"
     ]
    }
   ],
   "source": [
    "#科学计数法\n",
    "number=1.8e3\n",
    "print(number)"
   ]
  },
  {
   "cell_type": "markdown",
   "metadata": {},
   "source": [
    "## 复数 Complex\n",
    "- 与数学定义一致\n",
    "- 复数的虚部用j/J表示\n",
    "- 例如\n",
    "  - 5+4j\n",
    "  - 4j\n",
    "  - (4j)"
   ]
  },
  {
   "cell_type": "code",
   "execution_count": 14,
   "metadata": {},
   "outputs": [
    {
     "name": "stdout",
     "output_type": "stream",
     "text": [
      "4j\n"
     ]
    }
   ],
   "source": [
    "a=4j\n",
    "print(a)"
   ]
  },
  {
   "cell_type": "markdown",
   "metadata": {},
   "source": [
    "## 布尔值\n",
    "- 用来表示真假的值\n",
    "- 只有两个直： Ture/False （第一个字母必须大写）\n",
    "- 在Python中布尔值可以直接当数字使用\n",
    "  - 布尔值如果当做数字使用，True=1，False=0\n",
    "  - 如果数字当做布尔值使用，0=False，其他数字=True"
   ]
  },
  {
   "cell_type": "code",
   "execution_count": 18,
   "metadata": {},
   "outputs": [
    {
     "name": "stdout",
     "output_type": "stream",
     "text": [
      "19\n",
      "18\n",
      "负数是True\n"
     ]
    }
   ],
   "source": [
    "#布尔值当做数字使用\n",
    "age=18+True\n",
    "print(age)\n",
    "\n",
    "age=18+False\n",
    "print(age)\n",
    "\n",
    "#负数也是真\n",
    "a=-1\n",
    "if a:\n",
    "    print(\"负数是True\")\n",
    "else:\n",
    "    print(\"负数是False\")"
   ]
  },
  {
   "cell_type": "markdown",
   "metadata": {},
   "source": [
    "## 字符串\n",
    "- 表达文字信息的内容，比如\"I Love Python\"\n",
    "- 形式上是用引号引起的内用\n",
    "  - 双引号\n",
    "  - 单引号\n",
    "  - 三引号，用来表示多行信息\n",
    "- 单双引号一致\n"
   ]
  },
  {
   "cell_type": "code",
   "execution_count": 29,
   "metadata": {},
   "outputs": [
    {
     "name": "stdout",
     "output_type": "stream",
     "text": [
      "I Love Python\n",
      "I Love Python To\n",
      "\n",
      "千里冰封\n",
      "万里雪飘\n",
      "望长城内外\n",
      "\n"
     ]
    }
   ],
   "source": [
    "#字符串案例\n",
    "\n",
    "love1= \"I Love Python\"\n",
    "print(love1)\n",
    "\n",
    "love2='I Love Python To'\n",
    "print(love2)\n",
    "\n",
    "#三引号可用来表示多行\n",
    "love3=\"\"\"\n",
    "千里冰封\n",
    "万里雪飘\n",
    "望长城内外\n",
    "\"\"\"\n",
    "print(love3)"
   ]
  },
  {
   "cell_type": "markdown",
   "metadata": {},
   "source": [
    "## None类型\n",
    "- 表示没用，用来占用\n",
    "- 比如返回，用来返回一个空"
   ]
  },
  {
   "cell_type": "markdown",
   "metadata": {},
   "source": [
    "# 表达式\n",
    "- 有一个或者几个数字或者变量或者运算符合成的第一行代码\n",
    "- 通常返回一个结果\n",
    "# 运算符\n",
    "- 由一个以上的值经过一些的操作得到新的值的过程就叫做运算\n",
    "- 用来操作运算的符号叫做运算符\n",
    "- 运算符分类\n",
    "  - 算数运算符\n",
    "  - 比较运算符\n",
    "  - 赋值运算符\n",
    "  - 逻辑运算符\n",
    "  - 位运算（比如二进制）\n",
    "  - 成员运算符\n",
    "  - 身份运算符\n"
   ]
  },
  {
   "cell_type": "code",
   "execution_count": null,
   "metadata": {},
   "outputs": [],
   "source": [
    "#表达式案例\n",
    "a=1+2"
   ]
  },
  {
   "cell_type": "markdown",
   "metadata": {},
   "source": [
    "## 算术运算符\n",
    "- 用来进行算数运算的符号\n",
    "- 通常用来表示加减乘除\n",
    "- Python没用自增自减运算符"
   ]
  },
  {
   "cell_type": "code",
   "execution_count": 32,
   "metadata": {},
   "outputs": [
    {
     "name": "stdout",
     "output_type": "stream",
     "text": [
      "7\n",
      "11\n",
      "16\n",
      "4.5\n",
      "4\n",
      "1\n",
      "1024\n"
     ]
    }
   ],
   "source": [
    "#算数运算符\n",
    "#加减乘除与数学意义基本一致\n",
    "\n",
    "a = 9 - 2\n",
    "print(a)\n",
    "\n",
    "b = 9 + 2\n",
    "print (b)\n",
    "\n",
    "c = 8 * 2\n",
    "print(c)\n",
    "\n",
    "#Python除法分为普通除法、地板除、取余\n",
    "#正常除法\n",
    "#此除法在Python2.x和3.x中有些不同\n",
    "a=9/2\n",
    "print(a)\n",
    "\n",
    "#地板除，取整除法\n",
    "b=9//2\n",
    "print(b)\n",
    "\n",
    "#取余\n",
    "c=9%2\n",
    "print(c)\n",
    "\n",
    "#两个乘号就是指数\n",
    "a=2**10\n",
    "print (a)"
   ]
  },
  {
   "cell_type": "markdown",
   "metadata": {},
   "source": [
    "# 比较运算符\n",
    "- 对两个内容进行比较的运算符\n",
    "- 结果一定是布尔值，即True/False\n"
   ]
  },
  {
   "cell_type": "code",
   "execution_count": 36,
   "metadata": {},
   "outputs": [
    {
     "name": "stdout",
     "output_type": "stream",
     "text": [
      "False\n",
      "True\n",
      "False\n",
      "False\n"
     ]
    }
   ],
   "source": [
    "#等于 ==\n",
    "a=3==4\n",
    "print(a)\n",
    "\n",
    "#不等于 ！=\n",
    "a=3!=4\n",
    "print(a)\n",
    "\n",
    "#其他比较运算符\n",
    "#>,>=,<,<=\n",
    "print(3>=8)\n",
    "print(\"gege\">\"laoba\")"
   ]
  },
  {
   "cell_type": "markdown",
   "metadata": {},
   "source": [
    "# 赋值运算符\n",
    "- 把一个值放到变量里去\n"
   ]
  },
  {
   "cell_type": "code",
   "execution_count": 42,
   "metadata": {},
   "outputs": [
    {
     "name": "stdout",
     "output_type": "stream",
     "text": [
      "3\n",
      "6\n"
     ]
    }
   ],
   "source": [
    "#赋值运算符=\n",
    "a = 8         #把8赋值给a\n",
    "# 复杂赋值\n",
    "a = b = 9     #先把9赋值给b再把b的值赋值给a\n",
    "a,b=1,2\n",
    "\n",
    "#赋值的缩写\n",
    "c = 0\n",
    "c = c + 3\n",
    "print(c)\n",
    "\n",
    "c += 3\n",
    "print(c)\n",
    "#所有数学匀运算符都可以缩写\n",
    "#Python中没有自增自减运算符\n"
   ]
  },
  {
   "cell_type": "markdown",
   "metadata": {},
   "source": [
    "# 逻辑运算符\n",
    "- 对布尔类型变量或者值进行运算的符号\n",
    "- and；逻辑与\n",
    "- or；逻辑或\n",
    "- not；逻辑非\n",
    "###### Python的逻辑运算中没有异或\n",
    "- 运算规则：\n",
    "  - and可以看做乘法\n",
    "  - or 可以看做加法\n",
    "  - True看做1，False看做0\n",
    "- 逻辑运算的短路问题\n",
    "  - 逻辑运算式，按照运算顺序计算，一旦能够确定整个式子的未来的值，则不再进行计算，直接返回"
   ]
  },
  {
   "cell_type": "code",
   "execution_count": 44,
   "metadata": {},
   "outputs": [],
   "source": [
    "#逻辑运算短路\n",
    "a = True\n",
    "b = True\n",
    "c = False\n",
    "\n",
    "aa = a or b and (a and b)\n",
    "print (aa)\n"
   ]
  },
  {
   "cell_type": "markdown",
   "metadata": {},
   "source": [
    "# 成员运算符\n",
    "- 运来检测一个值或者变量是否在某一个集合中\n",
    "- in：是否在里面\n",
    "- not in：是否不在里面"
   ]
  },
  {
   "cell_type": "code",
   "execution_count": 45,
   "metadata": {},
   "outputs": [
    {
     "name": "stdout",
     "output_type": "stream",
     "text": [
      "False\n",
      "True\n"
     ]
    }
   ],
   "source": [
    "# in案例\n",
    "L = [1,2,3,4,5]\n",
    "a = 6\n",
    "aa = a in L\n",
    "print(aa)\n",
    "\n",
    "#a不在L里面\n",
    "aa = a not in L\n",
    "print(aa)"
   ]
  },
  {
   "cell_type": "markdown",
   "metadata": {},
   "source": [
    "# 身份运算符\n",
    "- 用来确定两个变量是否是用一个变量\n",
    "- is；是否是\n",
    "- is not；是否不是"
   ]
  },
  {
   "cell_type": "code",
   "execution_count": 47,
   "metadata": {},
   "outputs": [
    {
     "name": "stdout",
     "output_type": "stream",
     "text": [
      "False\n",
      "True\n"
     ]
    }
   ],
   "source": [
    "# 身份运算符\n",
    "a=1\n",
    "b=121\n",
    "\n",
    "aaa = a is b\n",
    "print(aaa)\n",
    "\n",
    "aaa = a is not b\n",
    "print(aaa)"
   ]
  },
  {
   "cell_type": "markdown",
   "metadata": {},
   "source": [
    "# 运算符的优先级问题\n",
    "- 小括号最高优先级\n",
    "- 【注】从低到高\n",
    "\n",
    "      运算符\t描述\n",
    "      lambda\tLambda表达式\n",
    "       or\t布尔“或”\n",
    "       and\t布尔“与”\n",
    "       not x\t布尔“非”\n",
    "       in，not in\t成员测试\n",
    "       is，is not\t同一性测试\n",
    "       <，<=，>，>=，!=，==\t比较\n",
    "       |\t按位或\n",
    "       ^\t按位异或\n",
    "       &\t按位与\n",
    "       <<，>>\t移位\n",
    "       +，-\t加法与减法\n",
    "       *，/，%\t乘法、除法与取余\n",
    "       +x，-x\t正负号\n",
    "       ~x\t按位翻转\n",
    "       **\t指数\n",
    "       x.attribute\t属性参考   \n",
    "       x[index]\t下标    \n",
    "       x[index:index]\t寻址段\n",
    "       f(arguments...)\t函数调用\n",
    "       (experession,...)\t绑定或元组显示\n",
    "       [expression,...]\t列表显示\n",
    "       {key:datum,...}\t字典显示\n",
    "       'expression,...'\t字符串转换\n"
   ]
  },
  {
   "cell_type": "markdown",
   "metadata": {},
   "source": [
    "# 程序结构\n",
    "- 程序三种结构\n",
    "  - 顺序\n",
    "  - 循环\n",
    "  - 分支"
   ]
  },
  {
   "cell_type": "markdown",
   "metadata": {},
   "source": [
    "# 分支结构\n",
    "- 基本语句\n",
    "         if 条件表达式：\n",
    "         语句1\n",
    "         语句2\n",
    "         语句3\n",
    "         ....\n",
    "- 条件表达式就是计算结果必须是布尔值的表达式\n",
    "- 表达式后面的冒号不能少\n",
    "- 后面出现的语句，如果属于if语句块，则必须属于同一个缩进\n",
    "- 条件表达式结果为True，执行语句块内容"
   ]
  },
  {
   "cell_type": "code",
   "execution_count": 4,
   "metadata": {},
   "outputs": [
    {
     "name": "stdout",
     "output_type": "stream",
     "text": [
      "text1\n",
      "text\n",
      "test1\n"
     ]
    }
   ],
   "source": [
    "#if语句\n",
    "a='text'\n",
    "if True:\n",
    "    print (\"text1\")\n",
    "    print (a)\n",
    "if False:\n",
    "    print (\"if test\")\n",
    "print(\"test1\")"
   ]
  },
  {
   "cell_type": "markdown",
   "metadata": {},
   "source": [
    "# 双向分支\n",
    "- if...else...语句\n",
    "- 语法结构\n",
    "        if 条件表达式:\n",
    "        语句1\n",
    "        语句2\n",
    "        ....\n",
    "        else：\n",
    "        语句1\n",
    "        语句2\n",
    "        ....   "
   ]
  },
  {
   "cell_type": "code",
   "execution_count": 8,
   "metadata": {},
   "outputs": [
    {
     "name": "stdout",
     "output_type": "stream",
     "text": [
      "请输入您的性别man\n",
      "man\n",
      "一起玩去\n"
     ]
    }
   ],
   "source": [
    "#input的作用\n",
    "#1、在屏幕上输出括号内的字符串\n",
    "#2、接受用户输入的内容并返回到程序\n",
    "#3、input返回的内容一定是字符串内容\n",
    "\n",
    "#input负责接受用户输入并把内容返回给变量\n",
    "gender=input(\"请输入您的性别\")\n",
    "print(gender)\n",
    "if gender==\"man\":\n",
    "    print(\"一起玩去\")\n",
    "else:\n",
    "    print(\"爪巴\")"
   ]
  },
  {
   "cell_type": "code",
   "execution_count": 20,
   "metadata": {},
   "outputs": [
    {
     "name": "stdout",
     "output_type": "stream",
     "text": [
      "请输入成绩，必须是数字20\n",
      "差\n"
     ]
    }
   ],
   "source": [
    "#考试成绩判断\n",
    "#成绩由用户输入\n",
    "#90分以上：优秀\n",
    "#80-90：良\n",
    "#70-80：中\n",
    "#60-70平\n",
    "#60以下：差\n",
    "\n",
    "#输入成绩，需要input函数\n",
    "#input函数输入的值全部都是字符串类型\n",
    "score=input(\"请输入成绩，必须是数字\")\n",
    "\n",
    "#解决输出是字符串的问题\n",
    "score=int(score)\n",
    "if score >= 90:\n",
    "    print(\"优秀\")\n",
    "if score>=80 and score < 90:\n",
    "    print(\"良\")\n",
    "if score >= 70 and score <80:\n",
    "    print(\"中\")\n",
    "if score >= 60 and score < 70:\n",
    "    print(\"平\")\n",
    "if score <60:\n",
    "    print(\"差\")"
   ]
  },
  {
   "cell_type": "markdown",
   "metadata": {},
   "source": [
    "# 多路分支\n",
    "- 很多分支的情况叫做多路分支\n",
    "        if 条件表达式:\n",
    "        语句块\n",
    "        ...\n",
    "        elif 条件表达式：\n",
    "        语句块\n",
    "        ...\n",
    "        elif 条件表达式：\n",
    "        语句块\n",
    "        ...\n",
    "        else：\n",
    "        语句块\n",
    "        ...\n",
    "- 多路分支只会执行一种\n",
    " \n",
    "# if语句补充\n",
    "- if语句可以嵌套使用，不推荐\n",
    "- Python中没有switch语句"
   ]
  },
  {
   "cell_type": "markdown",
   "metadata": {},
   "source": [
    "# 循环语句\n",
    "- 重复执行某一个固定的动作或者任务\n",
    "- 分类\n",
    "   - for\n",
    "   - while\n",
    "# for循环\n",
    "- 语法\n",
    "       for 变量 in 序列：\n",
    "       语句1\n",
    "       语句2\n",
    "       ..."
   ]
  },
  {
   "cell_type": "code",
   "execution_count": 21,
   "metadata": {},
   "outputs": [
    {
     "name": "stdout",
     "output_type": "stream",
     "text": [
      "1\n",
      "101\n",
      "2\n",
      "102\n",
      "3\n",
      "103\n",
      "4\n",
      "104\n",
      "5\n",
      "105\n",
      "6\n",
      "106\n",
      "7\n",
      "107\n"
     ]
    }
   ],
   "source": [
    "#比如[1,2,3,4,5,6,7]\n",
    "\n",
    "list_one=[1,2,3,4,5,6,7]\n",
    "\n",
    "for shuzi in list_one:\n",
    "    print(shuzi)\n",
    "    print(shuzi+100)"
   ]
  },
  {
   "cell_type": "code",
   "execution_count": 23,
   "metadata": {},
   "outputs": [
    {
     "name": "stdout",
     "output_type": "stream",
     "text": [
      "爪巴\n",
      "爪巴\n",
      "晓静你去哪了\n"
     ]
    }
   ],
   "source": [
    "#打印学生列表\n",
    "\n",
    "stu_list=[\"王大燕\",\"李美丽\",\"王晓静\"]\n",
    "\n",
    "for stu in stu_list:\n",
    "    if stu==\"王晓静\":\n",
    "        print(\"晓静你去哪了\")\n",
    "    else:\n",
    "        print(\"爪巴\")"
   ]
  },
  {
   "cell_type": "markdown",
   "metadata": {},
   "source": [
    "# for-else 语句\n",
    "- for循环结束的时候，有时候需要执行一些收尾工作，此时需要else语句\n",
    "- 如果没有在列表里，或者列表快结束了，我们需要打印提示语句"
   ]
  },
  {
   "cell_type": "code",
   "execution_count": 24,
   "metadata": {},
   "outputs": [
    {
     "name": "stdout",
     "output_type": "stream",
     "text": [
      "爪巴\n",
      "爪巴\n",
      "晓静你去哪了\n",
      "不会再爱了\n"
     ]
    }
   ],
   "source": [
    "#打印学生列表 for-else语句\n",
    "\n",
    "stu_list=[\"王大燕\",\"李美丽\",\"王晓静\"]\n",
    "\n",
    "for stu in stu_list:\n",
    "    if stu==\"王晓静\":\n",
    "        print(\"晓静你去哪了\")\n",
    "    else:\n",
    "        print(\"爪巴\")\n",
    "else:\n",
    "    print(\"不会再爱了\")"
   ]
  },
  {
   "cell_type": "markdown",
   "metadata": {},
   "source": [
    "# break，continue，pass\n",
    "- break：无条件结束整个循环，简称循环猝死\n",
    "- continue：直接进行下一轮循环\n",
    "- pass：只是占位符，并不具有跳过功能"
   ]
  },
  {
   "cell_type": "code",
   "execution_count": 25,
   "metadata": {},
   "outputs": [
    {
     "name": "stdout",
     "output_type": "stream",
     "text": [
      "3\n",
      "4\n",
      "5\n",
      "找到了\n"
     ]
    }
   ],
   "source": [
    "#确定一个数字队列中是否包含数字7\n",
    "#确定是否包含，只要找到一个即可\n",
    "\n",
    "dig_list = [3,4,5,7,3,23,2,3,4,7]\n",
    "for dig in dig_list:\n",
    "    if dig == 7:\n",
    "        print(\"找到了\")\n",
    "        break\n",
    "    else:\n",
    "        print(dig)"
   ]
  },
  {
   "cell_type": "code",
   "execution_count": 27,
   "metadata": {},
   "outputs": [
    {
     "name": "stdout",
     "output_type": "stream",
     "text": [
      "2\n",
      "4\n",
      "6\n",
      "8\n",
      "10\n"
     ]
    }
   ],
   "source": [
    "#coninue 语句练习\n",
    "#在数字1-10中，寻找所有偶数，找到偶数打印出偶数\n",
    "dig_list = [1,2,3,4,5,6,7,8,9,10]\n",
    "\n",
    "for dig in dig_list:\n",
    "    if dig%2==1:\n",
    "        continue\n",
    "    print(dig)"
   ]
  },
  {
   "cell_type": "code",
   "execution_count": 28,
   "metadata": {},
   "outputs": [
    {
     "name": "stdout",
     "output_type": "stream",
     "text": [
      "你还小\n"
     ]
    }
   ],
   "source": [
    "#pass案例\n",
    "age = 19\n",
    "if age > 19:\n",
    "    pass\n",
    "else:\n",
    "    print(\"你还小\")"
   ]
  },
  {
   "cell_type": "code",
   "execution_count": 29,
   "metadata": {},
   "outputs": [
    {
     "name": "stdout",
     "output_type": "stream",
     "text": [
      "2\n",
      "23\n",
      "43\n",
      "54\n",
      "65\n",
      "2\n"
     ]
    }
   ],
   "source": [
    "#pass 案例\n",
    "\n",
    "ages = [2,23,43,54,65,2]\n",
    "for age in ages:\n",
    "    pass\n",
    "    print(age)"
   ]
  },
  {
   "cell_type": "markdown",
   "metadata": {},
   "source": [
    "# range 函数\n",
    "- 生成有序数列\n",
    "- 生成数字队列可以定制\n",
    "- range(a,b) 左包括右不包括"
   ]
  },
  {
   "cell_type": "code",
   "execution_count": 30,
   "metadata": {},
   "outputs": [
    {
     "name": "stdout",
     "output_type": "stream",
     "text": [
      "1\n",
      "2\n",
      "3\n",
      "4\n",
      "5\n",
      "6\n",
      "7\n",
      "8\n",
      "9\n"
     ]
    }
   ],
   "source": [
    "# range案例\n",
    "#生成一个从1到100的数字序列\n",
    "#range的生成序列的边界是左包括右不包括\n",
    "dig_list=range(1,10)\n",
    "for dig in dig_list:\n",
    "    print(dig)"
   ]
  },
  {
   "cell_type": "code",
   "execution_count": 32,
   "metadata": {},
   "outputs": [
    {
     "name": "stdout",
     "output_type": "stream",
     "text": [
      "1\n",
      "2\n",
      "3\n",
      "4\n",
      "5\n",
      "6\n",
      "7\n",
      "8\n",
      "9\n"
     ]
    }
   ],
   "source": [
    "#range 案例\n",
    "for i in range(1,10):\n",
    "    print(i)"
   ]
  },
  {
   "cell_type": "markdown",
   "metadata": {},
   "source": [
    "# while循环\n",
    "- 一个循环语句\n",
    "- 表示当条件成立的时候，就循环，适用于不知道具体循环次数，但能确定循环条件就循环\n",
    "- while语法：\n",
    "    while 条件表达式：\n",
    "        语句块\n",
    "     #另一种表达方法\n",
    "     while 条件表达式：\n",
    "         语句块1\n",
    "         ...\n",
    "     else：\n",
    "         语句块2"
   ]
  },
  {
   "cell_type": "code",
   "execution_count": 2,
   "metadata": {},
   "outputs": [
    {
     "name": "stdout",
     "output_type": "stream",
     "text": [
      "11\n",
      "11\n"
     ]
    }
   ],
   "source": [
    "#如果年利率是6.7%，本金是每年翻滚，则多少钱后本钱会翻倍\n",
    "\n",
    "benqian = 10000\n",
    "year = 0 #本钱翻一番的年数\n",
    "\n",
    "while benqian < 20000:\n",
    "    benqian = benqian * (1 + 0.067)\n",
    "    year+=1\n",
    "print(year)\n",
    "\n",
    "#年利率案例2\n",
    "#本案例中循环while没有执行\n",
    "while benqian < 20000:\n",
    "    benqian = benqian * (1 + 0.067)\n",
    "    year+=1\n",
    "else:\n",
    "    print(year)\n",
    "\n"
   ]
  },
  {
   "cell_type": "code",
   "execution_count": null,
   "metadata": {},
   "outputs": [],
   "source": []
  }
 ],
 "metadata": {
  "kernelspec": {
   "display_name": "Python 3",
   "language": "python",
   "name": "python3"
  },
  "language_info": {
   "codemirror_mode": {
    "name": "ipython",
    "version": 3
   },
   "file_extension": ".py",
   "mimetype": "text/x-python",
   "name": "python",
   "nbconvert_exporter": "python",
   "pygments_lexer": "ipython3",
   "version": "3.8.5"
  }
 },
 "nbformat": 4,
 "nbformat_minor": 4
}
