{
 "cells": [
  {
   "cell_type": "markdown",
   "metadata": {},
   "source": [
    "# 主要内容\n",
    "- Python语法基础\n"
   ]
  },
  {
   "cell_type": "code",
   "execution_count": 1,
   "metadata": {},
   "outputs": [
    {
     "name": "stdout",
     "output_type": "stream",
     "text": [
      "i love python\n"
     ]
    }
   ],
   "source": [
    "print(\"i love python\")"
   ]
  },
  {
   "cell_type": "code",
   "execution_count": 6,
   "metadata": {},
   "outputs": [
    {
     "name": "stdout",
     "output_type": "stream",
     "text": [
      "I Love Python\n",
      "I Love python 我爱Python me to\n"
     ]
    }
   ],
   "source": [
    "#声明的三种格式\n",
    "#格式1\n",
    "s=\"I Love Python\"\n",
    "print(s)\n",
    "#格式2\n",
    "s2=s3=\"I Love Python to\"\n",
    "#格式3\n",
    "s4,s5,s6=\"I Love python\",\"我爱Python\",\"me to\"\n",
    "print(s4,s5,s6)\n"
   ]
  },
  {
   "cell_type": "markdown",
   "metadata": {},
   "source": [
    "# 变量类型\n",
    "- 严格意义上讲，Python中只有一种类型    \n",
    "- 标准数据类型六中\n",
    "  - 数字 Number\n",
    "  - 字符串 str\n",
    "  - 列表 list\n",
    "  - 元组 tuper\n",
    "  - 字典 dict\n",
    "  - 集合 set\n",
    "  \n"
   ]
  },
  {
   "cell_type": "markdown",
   "metadata": {},
   "source": [
    "# 数据类型 Number\n",
    "- Python 中数字没有大小限制\n",
    "# 常见数字分类\n",
    "\n",
    "- 整数\n",
    "  - 没有小数部分\n",
    "  - 包含整数、负数、0\n",
    "  - 二进制\n",
    "    - 只有0、1\n",
    "    - 以0b开头\n",
    "    - 例如：\n",
    "      - 0b110\n",
    "  - 八进制\n",
    "    - 以0o开头，0-7组成\n",
    "    - 例如：\n",
    "      - 0o677\n",
    "  - 十六进制\n",
    "    - 以0x开头，0-9、a-f组成的数字\n",
    "    - 例如：\n",
    "      - 0xffff\n",
    "\n",
    "\n",
    "- 浮点型\n",
    "- 科学计数法\n",
    "- 复数"
   ]
  },
  {
   "cell_type": "code",
   "execution_count": 10,
   "metadata": {},
   "outputs": [
    {
     "name": "stdout",
     "output_type": "stream",
     "text": [
      "6\n"
     ]
    }
   ],
   "source": [
    "#二进制\n",
    "a=0b110\n",
    "print(a)"
   ]
  },
  {
   "cell_type": "code",
   "execution_count": 11,
   "metadata": {},
   "outputs": [
    {
     "name": "stdout",
     "output_type": "stream",
     "text": [
      "447\n"
     ]
    }
   ],
   "source": [
    "#八进制\n",
    "a=0o677\n",
    "print(a)"
   ]
  },
  {
   "cell_type": "code",
   "execution_count": 12,
   "metadata": {},
   "outputs": [
    {
     "name": "stdout",
     "output_type": "stream",
     "text": [
      "65535\n"
     ]
    }
   ],
   "source": [
    "#十六进制\n",
    "a=0xffff\n",
    "print(a)"
   ]
  },
  {
   "cell_type": "markdown",
   "metadata": {},
   "source": [
    "## 浮点型\n",
    "- 传统意义的小数\n",
    "- 例如：\n",
    "  - 3.1415\n",
    "  - 3.\n",
    "  - 0.4\n",
    "  - .4\n",
    "- 科学计数法\n",
    "  - 跟数定义一致\n",
    "  - 表示方法位数字加上e后边0的个数\n",
    "  - 1800=1.8e3\n",
    "\n",
    "  "
   ]
  },
  {
   "cell_type": "code",
   "execution_count": 13,
   "metadata": {},
   "outputs": [
    {
     "name": "stdout",
     "output_type": "stream",
     "text": [
      "1800.0\n"
     ]
    }
   ],
   "source": [
    "#科学计数法\n",
    "number=1.8e3\n",
    "print(number)"
   ]
  },
  {
   "cell_type": "markdown",
   "metadata": {},
   "source": [
    "## 复数 Complex\n",
    "- 与数学定义一致\n",
    "- 复数的虚部用j/J表示\n",
    "- 例如\n",
    "  - 5+4j\n",
    "  - 4j\n",
    "  - (4j)"
   ]
  },
  {
   "cell_type": "code",
   "execution_count": 14,
   "metadata": {},
   "outputs": [
    {
     "name": "stdout",
     "output_type": "stream",
     "text": [
      "4j\n"
     ]
    }
   ],
   "source": [
    "a=4j\n",
    "print(a)"
   ]
  },
  {
   "cell_type": "markdown",
   "metadata": {},
   "source": [
    "## 布尔值\n",
    "- 用来表示真假的值\n",
    "- 只有两个值： Ture/False （第一个字母必须大写）\n",
    "- 在Python中布尔值可以直接当数字使用\n",
    "  - 布尔值如果当做数字使用，True=1，False=0\n",
    "  - 如果数字当做布尔值使用，0=False，其他数字=True"
   ]
  },
  {
   "cell_type": "code",
   "execution_count": 18,
   "metadata": {},
   "outputs": [
    {
     "name": "stdout",
     "output_type": "stream",
     "text": [
      "19\n",
      "18\n",
      "负数是True\n"
     ]
    }
   ],
   "source": [
    "#布尔值当做数字使用\n",
    "age=18+True\n",
    "print(age)\n",
    "\n",
    "age=18+False\n",
    "print(age)\n",
    "\n",
    "#负数也是真\n",
    "a=-1\n",
    "if a:\n",
    "    print(\"负数是True\")\n",
    "else:\n",
    "    print(\"负数是False\")"
   ]
  },
  {
   "cell_type": "markdown",
   "metadata": {},
   "source": [
    "## 字符串\n",
    "- 表达文字信息的内容，比如\"I Love Python\"\n",
    "- 形式上是用引号引起的内用\n",
    "  - 双引号\n",
    "  - 单引号\n",
    "  - 三引号，用来表示多行信息\n",
    "- 单双引号一致\n"
   ]
  },
  {
   "cell_type": "code",
   "execution_count": 29,
   "metadata": {},
   "outputs": [
    {
     "name": "stdout",
     "output_type": "stream",
     "text": [
      "I Love Python\n",
      "I Love Python To\n",
      "\n",
      "千里冰封\n",
      "万里雪飘\n",
      "望长城内外\n",
      "\n"
     ]
    }
   ],
   "source": [
    "#字符串案例\n",
    "\n",
    "love1= \"I Love Python\"\n",
    "print(love1)\n",
    "\n",
    "love2='I Love Python To'\n",
    "print(love2)\n",
    "\n",
    "#三引号可用来表示多行\n",
    "love3=\"\"\"\n",
    "千里冰封\n",
    "万里雪飘\n",
    "望长城内外\n",
    "\"\"\"\n",
    "print(love3)"
   ]
  },
  {
   "cell_type": "markdown",
   "metadata": {},
   "source": [
    "## None类型\n",
    "- 表示没用，用来占用\n",
    "- 比如返回，用来返回一个空"
   ]
  },
  {
   "cell_type": "markdown",
   "metadata": {},
   "source": [
    "# 表达式\n",
    "- 有一个或者几个数字或者变量或者运算符合成的第一行代码\n",
    "- 通常返回一个结果\n",
    "# 运算符\n",
    "- 由一个以上的值经过一些的操作得到新的值的过程就叫做运算\n",
    "- 用来操作运算的符号叫做运算符\n",
    "- 运算符分类\n",
    "  - 算数运算符\n",
    "  - 比较运算符\n",
    "  - 赋值运算符\n",
    "  - 逻辑运算符\n",
    "  - 位运算（比如二进制）\n",
    "  - 成员运算符\n",
    "  - 身份运算符\n"
   ]
  },
  {
   "cell_type": "code",
   "execution_count": null,
   "metadata": {},
   "outputs": [],
   "source": [
    "#表达式案例\n",
    "a=1+2"
   ]
  },
  {
   "cell_type": "markdown",
   "metadata": {},
   "source": [
    "## 算术运算符\n",
    "- 用来进行算数运算的符号\n",
    "- 通常用来表示加减乘除\n",
    "- Python没用自增自减运算符"
   ]
  },
  {
   "cell_type": "code",
   "execution_count": 32,
   "metadata": {},
   "outputs": [
    {
     "name": "stdout",
     "output_type": "stream",
     "text": [
      "7\n",
      "11\n",
      "16\n",
      "4.5\n",
      "4\n",
      "1\n",
      "1024\n"
     ]
    }
   ],
   "source": [
    "#算数运算符\n",
    "#加减乘除与数学意义基本一致\n",
    "\n",
    "a = 9 - 2\n",
    "print(a)\n",
    "\n",
    "b = 9 + 2\n",
    "print (b)\n",
    "\n",
    "c = 8 * 2\n",
    "print(c)\n",
    "\n",
    "#Python除法分为普通除法、地板除、取余\n",
    "#正常除法\n",
    "#此除法在Python2.x和3.x中有些不同\n",
    "a=9/2\n",
    "print(a)\n",
    "\n",
    "#地板除，取整除法\n",
    "b=9//2\n",
    "print(b)\n",
    "\n",
    "#取余\n",
    "c=9%2\n",
    "print(c)\n",
    "\n",
    "#两个乘号就是指数\n",
    "a=2**10\n",
    "print (a)"
   ]
  },
  {
   "cell_type": "markdown",
   "metadata": {},
   "source": [
    "# 比较运算符\n",
    "- 对两个内容进行比较的运算符\n",
    "- 结果一定是布尔值，即True/False\n"
   ]
  },
  {
   "cell_type": "code",
   "execution_count": 36,
   "metadata": {},
   "outputs": [
    {
     "name": "stdout",
     "output_type": "stream",
     "text": [
      "False\n",
      "True\n",
      "False\n",
      "False\n"
     ]
    }
   ],
   "source": [
    "#等于 ==\n",
    "a=3==4\n",
    "print(a)\n",
    "\n",
    "#不等于 ！=\n",
    "a=3!=4\n",
    "print(a)\n",
    "\n",
    "#其他比较运算符\n",
    "#>,>=,<,<=\n",
    "print(3>=8)\n",
    "print(\"gege\">\"laoba\")"
   ]
  },
  {
   "cell_type": "markdown",
   "metadata": {},
   "source": [
    "# 赋值运算符\n",
    "- 把一个值放到变量里去\n"
   ]
  },
  {
   "cell_type": "code",
   "execution_count": 42,
   "metadata": {},
   "outputs": [
    {
     "name": "stdout",
     "output_type": "stream",
     "text": [
      "3\n",
      "6\n"
     ]
    }
   ],
   "source": [
    "#赋值运算符=\n",
    "a = 8         #把8赋值给a\n",
    "# 复杂赋值\n",
    "a = b = 9     #先把9赋值给b再把b的值赋值给a\n",
    "a,b=1,2\n",
    "\n",
    "#赋值的缩写\n",
    "c = 0\n",
    "c = c + 3\n",
    "print(c)\n",
    "\n",
    "c += 3\n",
    "print(c)\n",
    "#所有数学匀运算符都可以缩写\n",
    "#Python中没有自增自减运算符\n"
   ]
  },
  {
   "cell_type": "markdown",
   "metadata": {},
   "source": [
    "# 逻辑运算符\n",
    "- 对布尔类型变量或者值进行运算的符号\n",
    "- and；逻辑与\n",
    "- or；逻辑或\n",
    "- not；逻辑非\n",
    "###### Python的逻辑运算中没有异或\n",
    "- 运算规则：\n",
    "  - and可以看做乘法\n",
    "  - or 可以看做加法\n",
    "  - True看做1，False看做0\n",
    "- 逻辑运算的短路问题\n",
    "  - 逻辑运算式，按照运算顺序计算，一旦能够确定整个式子的未来的值，则不再进行计算，直接返回"
   ]
  },
  {
   "cell_type": "code",
   "execution_count": 44,
   "metadata": {},
   "outputs": [],
   "source": [
    "#逻辑运算短路\n",
    "a = True\n",
    "b = True\n",
    "c = False\n",
    "\n",
    "aa = a or b and (a and b)\n",
    "print (aa)\n"
   ]
  },
  {
   "cell_type": "markdown",
   "metadata": {},
   "source": [
    "# 成员运算符\n",
    "- 运来检测一个值或者变量是否在某一个集合中\n",
    "- in：是否在里面\n",
    "- not in：是否不在里面"
   ]
  },
  {
   "cell_type": "code",
   "execution_count": 45,
   "metadata": {},
   "outputs": [
    {
     "name": "stdout",
     "output_type": "stream",
     "text": [
      "False\n",
      "True\n"
     ]
    }
   ],
   "source": [
    "# in案例\n",
    "L = [1,2,3,4,5]\n",
    "a = 6\n",
    "aa = a in L\n",
    "print(aa)\n",
    "\n",
    "#a不在L里面\n",
    "aa = a not in L\n",
    "print(aa)"
   ]
  },
  {
   "cell_type": "markdown",
   "metadata": {},
   "source": [
    "# 身份运算符\n",
    "- 用来确定两个变量是否是用一个变量\n",
    "- is；是否是\n",
    "- is not；是否不是"
   ]
  },
  {
   "cell_type": "code",
   "execution_count": 47,
   "metadata": {},
   "outputs": [
    {
     "name": "stdout",
     "output_type": "stream",
     "text": [
      "False\n",
      "True\n"
     ]
    }
   ],
   "source": [
    "# 身份运算符\n",
    "a=1\n",
    "b=121\n",
    "\n",
    "aaa = a is b\n",
    "print(aaa)\n",
    "\n",
    "aaa = a is not b\n",
    "print(aaa)"
   ]
  },
  {
   "cell_type": "markdown",
   "metadata": {},
   "source": [
    "# 运算符的优先级问题\n",
    "- 小括号最高优先级\n",
    "- 【注】从低到高\n",
    "\n",
    "      运算符\t描述\n",
    "      lambda\tLambda表达式\n",
    "       or\t布尔“或”\n",
    "       and\t布尔“与”\n",
    "       not x\t布尔“非”\n",
    "       in，not in\t成员测试\n",
    "       is，is not\t同一性测试\n",
    "       <，<=，>，>=，!=，==\t比较\n",
    "       |\t按位或\n",
    "       ^\t按位异或\n",
    "       &\t按位与\n",
    "       <<，>>\t移位\n",
    "       +，-\t加法与减法\n",
    "       *，/，%\t乘法、除法与取余\n",
    "       +x，-x\t正负号\n",
    "       ~x\t按位翻转\n",
    "       **\t指数\n",
    "       x.attribute\t属性参考   \n",
    "       x[index]\t下标    \n",
    "       x[index:index]\t寻址段\n",
    "       f(arguments...)\t函数调用\n",
    "       (experession,...)\t绑定或元组显示\n",
    "       [expression,...]\t列表显示\n",
    "       {key:datum,...}\t字典显示\n",
    "       'expression,...'\t字符串转换\n"
   ]
  },
  {
   "cell_type": "markdown",
   "metadata": {},
   "source": [
    "# 程序结构\n",
    "- 程序三种结构\n",
    "  - 顺序\n",
    "  - 循环\n",
    "  - 分支"
   ]
  },
  {
   "cell_type": "markdown",
   "metadata": {},
   "source": [
    "# 分支结构\n",
    "- 基本语句\n",
    "         if 条件表达式：\n",
    "         语句1\n",
    "         语句2\n",
    "         语句3\n",
    "         ....\n",
    "- 条件表达式就是计算结果必须是布尔值的表达式\n",
    "- 表达式后面的冒号不能少\n",
    "- 后面出现的语句，如果属于if语句块，则必须属于同一个缩进\n",
    "- 条件表达式结果为True，执行语句块内容"
   ]
  },
  {
   "cell_type": "code",
   "execution_count": 4,
   "metadata": {},
   "outputs": [
    {
     "name": "stdout",
     "output_type": "stream",
     "text": [
      "text1\n",
      "text\n",
      "test1\n"
     ]
    }
   ],
   "source": [
    "#if语句\n",
    "a='text'\n",
    "if True:\n",
    "    print (\"text1\")\n",
    "    print (a)\n",
    "if False:\n",
    "    print (\"if test\")\n",
    "print(\"test1\")"
   ]
  },
  {
   "cell_type": "markdown",
   "metadata": {},
   "source": [
    "# 双向分支\n",
    "- if...else...语句\n",
    "- 语法结构\n",
    "        if 条件表达式:\n",
    "        语句1\n",
    "        语句2\n",
    "        ....\n",
    "        else：\n",
    "        语句1\n",
    "        语句2\n",
    "        ....   "
   ]
  },
  {
   "cell_type": "code",
   "execution_count": 8,
   "metadata": {},
   "outputs": [
    {
     "name": "stdout",
     "output_type": "stream",
     "text": [
      "请输入您的性别man\n",
      "man\n",
      "一起玩去\n"
     ]
    }
   ],
   "source": [
    "#input的作用\n",
    "#1、在屏幕上输出括号内的字符串\n",
    "#2、接受用户输入的内容并返回到程序\n",
    "#3、input返回的内容一定是字符串内容\n",
    "\n",
    "#input负责接受用户输入并把内容返回给变量\n",
    "gender=input(\"请输入您的性别\")\n",
    "print(gender)\n",
    "if gender==\"man\":\n",
    "    print(\"一起玩去\")\n",
    "else:\n",
    "    print(\"爪巴\")"
   ]
  },
  {
   "cell_type": "code",
   "execution_count": 20,
   "metadata": {},
   "outputs": [
    {
     "name": "stdout",
     "output_type": "stream",
     "text": [
      "请输入成绩，必须是数字20\n",
      "差\n"
     ]
    }
   ],
   "source": [
    "#考试成绩判断\n",
    "#成绩由用户输入\n",
    "#90分以上：优秀\n",
    "#80-90：良\n",
    "#70-80：中\n",
    "#60-70平\n",
    "#60以下：差\n",
    "\n",
    "#输入成绩，需要input函数\n",
    "#input函数输入的值全部都是字符串类型\n",
    "score=input(\"请输入成绩，必须是数字\")\n",
    "\n",
    "#解决输出是字符串的问题\n",
    "score=int(score)\n",
    "if score >= 90:\n",
    "    print(\"优秀\")\n",
    "if score>=80 and score < 90:\n",
    "    print(\"良\")\n",
    "if score >= 70 and score <80:\n",
    "    print(\"中\")\n",
    "if score >= 60 and score < 70:\n",
    "    print(\"平\")\n",
    "if score <60:\n",
    "    print(\"差\")"
   ]
  },
  {
   "cell_type": "markdown",
   "metadata": {},
   "source": [
    "# 多路分支\n",
    "- 很多分支的情况叫做多路分支\n",
    "        if 条件表达式:\n",
    "        语句块\n",
    "        ...\n",
    "        elif 条件表达式：\n",
    "        语句块\n",
    "        ...\n",
    "        elif 条件表达式：\n",
    "        语句块\n",
    "        ...\n",
    "        else：\n",
    "        语句块\n",
    "        ...\n",
    "- 多路分支只会执行一种\n",
    " \n",
    "# if语句补充\n",
    "- if语句可以嵌套使用，不推荐\n",
    "- Python中没有switch语句"
   ]
  },
  {
   "cell_type": "markdown",
   "metadata": {},
   "source": [
    "# 循环语句\n",
    "- 重复执行某一个固定的动作或者任务\n",
    "- 分类\n",
    "   - for\n",
    "   - while\n",
    "# for循环\n",
    "- 语法\n",
    "       for 变量 in 序列：\n",
    "       语句1\n",
    "       语句2\n",
    "       ..."
   ]
  },
  {
   "cell_type": "code",
   "execution_count": 21,
   "metadata": {},
   "outputs": [
    {
     "name": "stdout",
     "output_type": "stream",
     "text": [
      "1\n",
      "101\n",
      "2\n",
      "102\n",
      "3\n",
      "103\n",
      "4\n",
      "104\n",
      "5\n",
      "105\n",
      "6\n",
      "106\n",
      "7\n",
      "107\n"
     ]
    }
   ],
   "source": [
    "#比如[1,2,3,4,5,6,7]\n",
    "\n",
    "list_one=[1,2,3,4,5,6,7]\n",
    "\n",
    "for shuzi in list_one:\n",
    "    print(shuzi)\n",
    "    print(shuzi+100)"
   ]
  },
  {
   "cell_type": "code",
   "execution_count": 23,
   "metadata": {},
   "outputs": [
    {
     "name": "stdout",
     "output_type": "stream",
     "text": [
      "爪巴\n",
      "爪巴\n",
      "晓静你去哪了\n"
     ]
    }
   ],
   "source": [
    "#打印学生列表\n",
    "\n",
    "stu_list=[\"王大燕\",\"李美丽\",\"王晓静\"]\n",
    "\n",
    "for stu in stu_list:\n",
    "    if stu==\"王晓静\":\n",
    "        print(\"晓静你去哪了\")\n",
    "    else:\n",
    "        print(\"爪巴\")"
   ]
  },
  {
   "cell_type": "markdown",
   "metadata": {},
   "source": [
    "# for-else 语句\n",
    "- for循环结束的时候，有时候需要执行一些收尾工作，此时需要else语句\n",
    "- 如果没有在列表里，或者列表快结束了，我们需要打印提示语句"
   ]
  },
  {
   "cell_type": "code",
   "execution_count": 24,
   "metadata": {},
   "outputs": [
    {
     "name": "stdout",
     "output_type": "stream",
     "text": [
      "爪巴\n",
      "爪巴\n",
      "晓静你去哪了\n",
      "不会再爱了\n"
     ]
    }
   ],
   "source": [
    "#打印学生列表 for-else语句\n",
    "\n",
    "stu_list=[\"王大燕\",\"李美丽\",\"王晓静\"]\n",
    "\n",
    "for stu in stu_list:\n",
    "    if stu==\"王晓静\":\n",
    "        print(\"晓静你去哪了\")\n",
    "    else:\n",
    "        print(\"爪巴\")\n",
    "else:\n",
    "    print(\"不会再爱了\")"
   ]
  },
  {
   "cell_type": "markdown",
   "metadata": {},
   "source": [
    "# break，continue，pass\n",
    "- break：无条件结束整个循环，简称循环猝死\n",
    "- continue：直接进行下一轮循环\n",
    "- pass：只是占位符，并不具有跳过功能"
   ]
  },
  {
   "cell_type": "code",
   "execution_count": 25,
   "metadata": {},
   "outputs": [
    {
     "name": "stdout",
     "output_type": "stream",
     "text": [
      "3\n",
      "4\n",
      "5\n",
      "找到了\n"
     ]
    }
   ],
   "source": [
    "#确定一个数字队列中是否包含数字7\n",
    "#确定是否包含，只要找到一个即可\n",
    "\n",
    "dig_list = [3,4,5,7,3,23,2,3,4,7]\n",
    "for dig in dig_list:\n",
    "    if dig == 7:\n",
    "        print(\"找到了\")\n",
    "        break\n",
    "    else:\n",
    "        print(dig)"
   ]
  },
  {
   "cell_type": "code",
   "execution_count": 27,
   "metadata": {},
   "outputs": [
    {
     "name": "stdout",
     "output_type": "stream",
     "text": [
      "2\n",
      "4\n",
      "6\n",
      "8\n",
      "10\n"
     ]
    }
   ],
   "source": [
    "#coninue 语句练习\n",
    "#在数字1-10中，寻找所有偶数，找到偶数打印出偶数\n",
    "dig_list = [1,2,3,4,5,6,7,8,9,10]\n",
    "\n",
    "for dig in dig_list:\n",
    "    if dig%2==1:\n",
    "        continue\n",
    "    print(dig)"
   ]
  },
  {
   "cell_type": "code",
   "execution_count": 28,
   "metadata": {},
   "outputs": [
    {
     "name": "stdout",
     "output_type": "stream",
     "text": [
      "你还小\n"
     ]
    }
   ],
   "source": [
    "#pass案例\n",
    "age = 19\n",
    "if age > 19:\n",
    "    pass\n",
    "else:\n",
    "    print(\"你还小\")"
   ]
  },
  {
   "cell_type": "code",
   "execution_count": 29,
   "metadata": {},
   "outputs": [
    {
     "name": "stdout",
     "output_type": "stream",
     "text": [
      "2\n",
      "23\n",
      "43\n",
      "54\n",
      "65\n",
      "2\n"
     ]
    }
   ],
   "source": [
    "#pass 案例\n",
    "\n",
    "ages = [2,23,43,54,65,2]\n",
    "for age in ages:\n",
    "    pass\n",
    "    print(age)"
   ]
  },
  {
   "cell_type": "markdown",
   "metadata": {},
   "source": [
    "# range 函数\n",
    "- 生成有序数列\n",
    "- 生成数字队列可以定制\n",
    "- range(a,b) 左包括右不包括"
   ]
  },
  {
   "cell_type": "code",
   "execution_count": 30,
   "metadata": {},
   "outputs": [
    {
     "name": "stdout",
     "output_type": "stream",
     "text": [
      "1\n",
      "2\n",
      "3\n",
      "4\n",
      "5\n",
      "6\n",
      "7\n",
      "8\n",
      "9\n"
     ]
    }
   ],
   "source": [
    "# range案例\n",
    "#生成一个从1到100的数字序列\n",
    "#range的生成序列的边界是左包括右不包括\n",
    "dig_list=range(1,10)\n",
    "for dig in dig_list:\n",
    "    print(dig)"
   ]
  },
  {
   "cell_type": "code",
   "execution_count": 32,
   "metadata": {},
   "outputs": [
    {
     "name": "stdout",
     "output_type": "stream",
     "text": [
      "1\n",
      "2\n",
      "3\n",
      "4\n",
      "5\n",
      "6\n",
      "7\n",
      "8\n",
      "9\n"
     ]
    }
   ],
   "source": [
    "#range 案例\n",
    "for i in range(1,10):\n",
    "    print(i)"
   ]
  },
  {
   "cell_type": "markdown",
   "metadata": {},
   "source": [
    "# while循环\n",
    "- 一个循环语句\n",
    "- 表示当条件成立的时候，就循环，适用于不知道具体循环次数，但能确定循环条件就循环\n",
    "- while语法：\n",
    "    while 条件表达式：\n",
    "        语句块\n",
    "     #另一种表达方法\n",
    "     while 条件表达式：\n",
    "         语句块1\n",
    "         ...\n",
    "     else：\n",
    "         语句块2"
   ]
  },
  {
   "cell_type": "code",
   "execution_count": 2,
   "metadata": {},
   "outputs": [
    {
     "name": "stdout",
     "output_type": "stream",
     "text": [
      "11\n",
      "11\n"
     ]
    }
   ],
   "source": [
    "#如果年利率是6.7%，本金是每年翻滚，则多少钱后本钱会翻倍\n",
    "\n",
    "benqian = 10000\n",
    "year = 0 #本钱翻一番的年数\n",
    "\n",
    "while benqian < 20000:\n",
    "    benqian = benqian * (1 + 0.067)\n",
    "    year+=1\n",
    "print(year)\n",
    "\n",
    "#年利率案例2\n",
    "#本案例中循环while没有执行\n",
    "while benqian < 20000:\n",
    "    benqian = benqian * (1 + 0.067)\n",
    "    year+=1\n",
    "else:\n",
    "    print(year)\n",
    "\n"
   ]
  },
  {
   "cell_type": "markdown",
   "metadata": {},
   "source": [
    "# 函数\n",
    "- 函数是代码的一种组织形式\n",
    "- 函数应该能完成一项特定的工作，而且一般一个函数值完成一项工作\n",
    "- 有些语言，分函数和过程两个概念，通俗解释是，有返回结果的叫做函数，没有返回结果的叫做过程，Python不加以区分\n",
    "- 函数的使用\n",
    "    - 函数使用需要先定义\n",
    "    - 使用函数，速成调用"
   ]
  },
  {
   "cell_type": "code",
   "execution_count": 2,
   "metadata": {},
   "outputs": [
    {
     "name": "stdout",
     "output_type": "stream",
     "text": [
      "函数结束了\n"
     ]
    }
   ],
   "source": [
    "#定义一个函数\n",
    "#只是定义的话不会执行\n",
    "#1、def关键字，后面跟空格\n",
    "#2、函数名，自己定义，起名需要遵循便令命明规则，约定俗成，大驼峰命名只给类用\n",
    "#3、后面的括号和冒号不能省，括号内可以有参数\n",
    "#4、函数内所有代码都缩进\n",
    "\n",
    "def func():\n",
    "    print(\"我是一个函数\")\n",
    "    print(\"爱生活，爱自己\")\n",
    "print(\"函数结束了\")"
   ]
  },
  {
   "cell_type": "code",
   "execution_count": 3,
   "metadata": {},
   "outputs": [
    {
     "name": "stdout",
     "output_type": "stream",
     "text": [
      "我是一个函数\n",
      "爱生活，爱自己\n"
     ]
    }
   ],
   "source": [
    "#函数的调用\n",
    "#直接用初函数的名字，后面的小括号不能省略，括号内根据情况\n",
    "func()"
   ]
  },
  {
   "cell_type": "markdown",
   "metadata": {},
   "source": [
    "# 函数的参数和返回值\n",
    "- 参数：负责给函数传递一些必要的数据或者型芯\n",
    "    - 形参（形式参数）：在函数定义的时候用到的参数，没有具体值，只是一个占位符号\n",
    "    - 实参（实际参数）：在调用函数的时候输入的值\n",
    "- 返回值：调用函数的时候的一个执行结果\n",
    "    - 使用return返回结果\n",
    "    - 若果没有值需要返回，推荐使用 return None表示函数结束\n",
    "    - 函数一旦执行return，则函数立即结束\n",
    "    - 如果函数没有return关键字，则函数默认返回 None\n",
    "    "
   ]
  },
  {
   "cell_type": "code",
   "execution_count": 6,
   "metadata": {},
   "outputs": [
    {
     "name": "stdout",
     "output_type": "stream",
     "text": [
      "小明,你好\n",
      "小明,你看见我家晓静了吗？\n"
     ]
    }
   ],
   "source": [
    "# 形参和实参的案例\n",
    "# 参数person只是一个符号\n",
    "# 调用的时候用另一个\n",
    "def hello(person):\n",
    "    print(\"{0},你好\".format(person))\n",
    "    print(\"{},你看见我家晓静了吗？\".format(person))\n",
    "    return None\n",
    "\n",
    "p=\"小明\"\n",
    "#调用函数，需要把p作为实参传入\n",
    "hello(p)\n"
   ]
  },
  {
   "cell_type": "code",
   "execution_count": 13,
   "metadata": {},
   "outputs": [
    {
     "name": "stdout",
     "output_type": "stream",
     "text": [
      "Help on built-in function print in module builtins:\n",
      "\n",
      "print(...)\n",
      "    print(value, ..., sep=' ', end='\\n', file=sys.stdout, flush=False)\n",
      "    \n",
      "    Prints the values to a stream, or to sys.stdout by default.\n",
      "    Optional keyword arguments:\n",
      "    file:  a file-like object (stream); defaults to the current sys.stdout.\n",
      "    sep:   string inserted between values, default a space.\n",
      "    end:   string appended after the last value, default a newline.\n",
      "    flush: whether to forcibly flush the stream.\n",
      "\n"
     ]
    }
   ],
   "source": [
    "#help随时为你提供帮助\n",
    "help(print)"
   ]
  },
  {
   "cell_type": "code",
   "execution_count": 28,
   "metadata": {},
   "outputs": [
    {
     "name": "stdout",
     "output_type": "stream",
     "text": [
      "1 \n",
      "2 4 \n",
      "3 6 9 \n",
      "4 8 12 16 \n",
      "5 10 15 20 25 \n",
      "6 12 18 24 30 36 \n",
      "7 14 21 28 35 42 49 \n",
      "8 16 24 32 40 48 56 64 \n",
      "9 18 27 36 45 54 63 72 81 \n"
     ]
    }
   ],
   "source": [
    "#九九乘法表\n",
    "#version 1.0\n",
    "for o in range(1,10):      #外循环，从1到9\n",
    "    for i in range(1,o + 1):    #内循环，从第一个数开始，打印到跟行相同\n",
    "        print(o*i, end=\" \")\n",
    "    print()"
   ]
  },
  {
   "cell_type": "code",
   "execution_count": 37,
   "metadata": {},
   "outputs": [
    {
     "name": "stdout",
     "output_type": "stream",
     "text": [
      "1 \n",
      "2 4 \n",
      "3 6 9 \n",
      "4 8 12 16 \n",
      "5 10 15 20 25 \n",
      "6 12 18 24 30 36 \n",
      "7 14 21 28 35 42 49 \n",
      "8 16 24 32 40 48 56 64 \n",
      "9 18 27 36 45 54 63 72 81 \n"
     ]
    }
   ],
   "source": [
    "# 尝试使用函数打印九九乘法表\n",
    "\n",
    "def jiujiu():    \n",
    "    for o in range(1,10):      \n",
    "        for i in range(1,o + 1):\n",
    "            print(o*i, end=\" \")\n",
    "        print()\n",
    "    \n",
    "    return None\n",
    "\n",
    "jiujiu()"
   ]
  },
  {
   "cell_type": "code",
   "execution_count": 43,
   "metadata": {},
   "outputs": [
    {
     "name": "stdout",
     "output_type": "stream",
     "text": [
      "1 \n",
      "2 4 \n",
      "3 6 9 \n",
      "4 8 12 16 \n",
      "5 10 15 20 25 \n",
      "6 12 18 24 30 36 \n",
      "7 14 21 28 35 42 49 \n",
      "8 16 24 32 40 48 56 64 \n",
      "9 18 27 36 45 54 63 72 81 \n"
     ]
    }
   ],
   "source": [
    "#改造上面的函数\n",
    "#函数的复用\n",
    "def printLine(line_num):\n",
    "    for i in range(1,line_num + 1):\n",
    "        print(line_num * i,end=\" \")\n",
    "    print()\n",
    "def jiujiu():\n",
    "    for o in range(1,10):\n",
    "        printLine(o)\n",
    "    return None\n",
    "jiujiu()"
   ]
  },
  {
   "cell_type": "markdown",
   "metadata": {},
   "source": [
    "# 参数详解\n",
    "- 参数分类\n",
    "    - 普通参数/位置参数\n",
    "    - 默认参数\n",
    "    - 关键字参数\n",
    "    - 收集参数"
   ]
  },
  {
   "cell_type": "code",
   "execution_count": 52,
   "metadata": {},
   "outputs": [
    {
     "name": "stdout",
     "output_type": "stream",
     "text": [
      "3\n"
     ]
    }
   ],
   "source": [
    "# 普通参数案例\n",
    "def normal_para(one,two,three):\n",
    "    print(one+two)\n",
    "    return None\n",
    "normal_para(1,2,3)#三个参数必须都赋值"
   ]
  },
  {
   "cell_type": "code",
   "execution_count": 56,
   "metadata": {},
   "outputs": [
    {
     "name": "stdout",
     "output_type": "stream",
     "text": [
      "3\n",
      "100\n",
      "3\n",
      "3\n"
     ]
    }
   ],
   "source": [
    "#默认参数案例\n",
    "def default_para(one,two,three=100):#不给three赋值就默认100\n",
    "    print(one + two)\n",
    "    print(three)\n",
    "    return None\n",
    "default_para(1,2)#有默认赋值的普通参数可以不给赋值使用\n",
    "default_para(1,2,3)"
   ]
  },
  {
   "cell_type": "code",
   "execution_count": 57,
   "metadata": {},
   "outputs": [
    {
     "name": "stdout",
     "output_type": "stream",
     "text": [
      "21\n",
      "30\n",
      "21\n",
      "30\n"
     ]
    }
   ],
   "source": [
    "#关键字参数\n",
    "\n",
    "def keys_para(one,two,three):\n",
    "    print(one + two)\n",
    "    print(three)\n",
    "    return None\n",
    "keys_para(one=1,two=20,three=30)\n",
    "\n",
    "keys_para(three=30,one=1,two=20)#不依赖位置"
   ]
  },
  {
   "cell_type": "markdown",
   "metadata": {},
   "source": [
    "# str字符串\n",
    "- str\n",
    "- 转义字符\n",
    "- 格式化\n",
    "- 内建函数"
   ]
  },
  {
   "cell_type": "markdown",
   "metadata": {},
   "source": [
    "# 字符串\n",
    "- 表示文字信息\n",
    "- 用单引号，双引号，三引号括起来"
   ]
  },
  {
   "cell_type": "markdown",
   "metadata": {},
   "source": [
    "# 转义字符\n",
    "- 用来表示一系列不方便写出的内容，比如回车，换行符，退格键\n",
    "- 借用反斜杠字符，一旦字符串出现反斜杠，则反斜杠后面一个或者几个字符已经不是原来的意思，进行转移\n",
    "- 在字符串中，一旦出现反斜杠，就有可能有转义字符出现\n",
    "- 不同系统中对换行操作有不同的表示，其他的相同\n",
    "    - windows：\\n\n",
    "    - linux：\\r\\n"
   ]
  },
  {
   "cell_type": "code",
   "execution_count": 11,
   "metadata": {},
   "outputs": [
    {
     "name": "stdout",
     "output_type": "stream",
     "text": [
      "Let's Go\n",
      "Let's Go\n",
      "c:\\User\\data\n",
      "I\n",
      "Love\n",
      "Python\n"
     ]
    }
   ],
   "source": [
    "#转义字符的案例\n",
    "#想表达 Let's Go\n",
    "#使用转义字符\n",
    "\n",
    "s='Let\\'s Go'# \\'就是为了表示打印出'\n",
    "print(s)\n",
    "\n",
    "#使用单双引号嵌套\n",
    "s=\"Let's Go\"\n",
    "\n",
    "print (s)\n",
    "\n",
    "#表示斜杠\n",
    "#比如表示c:\\User\\data\n",
    "\n",
    "s=\"c:\\\\User\\\\data\"  #两个反斜杠表示一个反斜杠\n",
    "print(s)\n",
    "\n",
    "#回车换行\n",
    "s=\"I\\nLove\\nPython\"\n",
    "print(s)"
   ]
  },
  {
   "cell_type": "markdown",
   "metadata": {},
   "source": [
    "# 常用转义字符\n",
    "    \\(在行尾时)\t续行符\n",
    "    \\\\\t反斜杠符号\n",
    "    \\’\t单引号\n",
    "    \\”\t双引号\n",
    "    \\a\t响铃\n",
    "    \\b\t退格(Backspace)\n",
    "    \\e\t转义\n",
    "    \\000\t空\n",
    "    \\n\t换行\n",
    "    \\v\t纵向制表符\n",
    "    \\t\t横向制表符\n",
    "    \\r\t回车\n",
    "    \\f\t换页\n",
    "    \\oyy\t八进制数yy代表的字符，例如：\\o12代表换行\n",
    "    \\xyy\t十进制数yy代表的字符，例如：\\x0a代表换行\n",
    "    \\other\t其它的字符以普通格式输出\n"
   ]
  },
  {
   "cell_type": "code",
   "execution_count": 14,
   "metadata": {},
   "outputs": [
    {
     "name": "stdout",
     "output_type": "stream",
     "text": [
      "6\n"
     ]
    }
   ],
   "source": [
    "#单个斜杠用法\n",
    "#在Python中，单个反斜杠表示此行未结束，出于没关，需要下一行继续\n",
    "\n",
    "def myDemo( x,\\\n",
    "            y,\\\n",
    "            z,):\n",
    "    print(x+y+z)\n",
    "myDemo(1,2,3)"
   ]
  },
  {
   "cell_type": "markdown",
   "metadata": {},
   "source": [
    "# 格式化\n",
    "- 把字符串按照一定格式进行打印或者填充\n",
    "- 格式化的分类：\n",
    "    - 传统格式化\n",
    "    - format"
   ]
  },
  {
   "cell_type": "code",
   "execution_count": 15,
   "metadata": {},
   "outputs": [
    {
     "name": "stdout",
     "output_type": "stream",
     "text": [
      "I Love Python\n"
     ]
    }
   ],
   "source": [
    "#填充\n",
    "s= \"I Love Python\"\n",
    "print(s)"
   ]
  },
  {
   "cell_type": "markdown",
   "metadata": {},
   "source": [
    "# 字符串传统格式化方法\n",
    "- 使用%进行格式化\n",
    "- #（分号）也叫占位符\n",
    "        %s：字符串\n",
    "        %r：字符串，但是使用repr而不是str\n",
    "        %c：整数转换为单个字符\n",
    "        %d：十进制整数\n",
    "        %u：无符号整数\n",
    "        %o：表示八进制\n",
    "        %x：十六进制，字母为小写（x是小写）\n",
    "        %X：十六进制，字母为大写（X是大写）\n",
    "        %e：浮点数（e为小写），例如2.87e+12\n",
    "        %E：浮点数（E为大写），例如2.87E+12\n",
    "        %f，%F：浮点数十进制形式\n",
    "        %g，%G：十进制形式浮点或者指数浮点自动转换\n",
    "        格式字符前出现整数表示此占位符所占位置的宽度\n",
    "        格式字符前出现‘-’表示左对齐\n",
    "        格式字符前出现‘+’表示右对齐\n",
    "        0位数不足用‘0’补齐\n",
    "        width表示宽度\n",
    "        pricision表示精度"
   ]
  },
  {
   "cell_type": "code",
   "execution_count": 19,
   "metadata": {},
   "outputs": [
    {
     "name": "stdout",
     "output_type": "stream",
     "text": [
      "I Love %s\n",
      "I Love Python\n",
      "I Love C\n",
      "张三今天19岁了\n"
     ]
    }
   ],
   "source": [
    "#%s表示简单的字符串\n",
    "#占位符可以单独使用\n",
    "s=\"I Love %s\"\n",
    "print(s)\n",
    "\n",
    "print(s%\"Python\")\n",
    "\n",
    "print(s%\"C\")\n",
    "\n",
    "#占位符一般只能被同种类型替换，或者能转换成占位符的类型\n",
    "ss=\"张三今天%d岁了\"\n",
    "\n",
    "print(ss%19)"
   ]
  },
  {
   "cell_type": "code",
   "execution_count": 23,
   "metadata": {},
   "outputs": [
    {
     "name": "stdout",
     "output_type": "stream",
     "text": [
      "I am 60.100000Kg weight, 1.780000M Heigh\n",
      "I am 60.10Kg weight, 1.78M Heigh\n"
     ]
    }
   ],
   "source": [
    "S=\"I am %fKg weight, %fM Heigh\"\n",
    "print(S%(60.1,1.78))\n",
    "#实际需要进行格式化的信息的数量必须鱼百分号后面给出的数量匹配，否贼会报错\n",
    "S=\"I am %.2fKg weight, %.2fM Heigh\"\n",
    "print(S%(60.1,1.78))"
   ]
  },
  {
   "cell_type": "markdown",
   "metadata": {},
   "source": [
    "# format格式化\n",
    "- 使用函数形式惊进行格式化，代替以前的百分号\n"
   ]
  },
  {
   "cell_type": "code",
   "execution_count": 11,
   "metadata": {},
   "outputs": [
    {
     "name": "stdout",
     "output_type": "stream",
     "text": [
      "Hello World!\n",
      "Hello World!\n",
      "Hello World!\n",
      "World Hello!\n",
      "我们是北京图灵学院,我们网址是谁www.tulingxueyuan.com,刘大拿最帅\n"
     ]
    }
   ],
   "source": [
    "#不用指定位置，按照顺序读取\n",
    "s=\"{} {}!\"\n",
    "print(s.format(\"Hello\",\"World\"))\n",
    "\n",
    "#方式2\n",
    "s=\"{} {}!\".format(\"Hello\",\"World\")\n",
    "print(s)\n",
    "\n",
    "#设置指定位置\n",
    "s=\"{0} {1}!\".format(\"Hello\",\"World\")\n",
    "print(s)\n",
    "\n",
    "s=\"{1} {0}!\".format(\"Hello\",\"World\")\n",
    "print(s)\n",
    "\n",
    "#使用命名参数\n",
    "s=\"我们是{school_name},我们网址是谁{url},{teacher}最帅\"\n",
    "s=s.format(school_name=\"北京图灵学院\",url=\"www.tulingxueyuan.com\",teacher=\"刘大拿\")\n",
    "print(s)"
   ]
  },
  {
   "cell_type": "code",
   "execution_count": 14,
   "metadata": {},
   "outputs": [
    {
     "name": "stdout",
     "output_type": "stream",
     "text": [
      "我们是北京图灵学院,我们网址是谁www.tulingueyuan.com,刘大拿最帅\n"
     ]
    }
   ],
   "source": [
    "#通过字典设置参数，需要解包\n",
    "s=\"我们是{school_name},我们网址是谁{url},{teacher}最帅\"\n",
    "\n",
    "s_dict = {\"school_name\":\"北京图灵学院\",\\\n",
    "          \"url\":\"www.tulingueyuan.com\",\\\n",
    "          \"teacher\":\"刘大拿\"}\n",
    "#**是解包操作\n",
    "s=s.format(**s_dict)\n",
    "\n",
    "print(s)"
   ]
  },
  {
   "cell_type": "code",
   "execution_count": 18,
   "metadata": {},
   "outputs": [
    {
     "name": "stdout",
     "output_type": "stream",
     "text": [
      "Liu Dana is 1.84m heigh, 76.45Kg weight\n"
     ]
    }
   ],
   "source": [
    "#对数字格式化需要用到\n",
    "s = \"Liu Dana is {:.2f}m heigh, {:.2f}Kg weight\"\n",
    "print(s.format(1.84,76.45))\n",
    "\n",
    "#^,<,>,分别是居中、左对齐、右对齐，后面带宽度\n",
    "#:后面带填充的字符，只能是一个字符，不指定则默认是用空格填充\n",
    "# +表示在正数前面显示+，在复数前面显示-， （空格）表示在正数前面加空格\n",
    "#b、d、o、x分别是二进制、十进制、八进制、十六进制\n",
    "#此外我们可以使用大括号{}来转移大括号\n",
    "\n",
    "\n"
   ]
  },
  {
   "cell_type": "code",
   "execution_count": 22,
   "metadata": {},
   "outputs": [],
   "source": [
    "#help(str)\n",
    "#使用help查看文档\n",
    "#比如help(str.find)"
   ]
  },
  {
   "cell_type": "markdown",
   "metadata": {},
   "source": [
    "# str内置函数\n",
    "- 很多语言中字符串使用string表示，但是Python中用str表示字符串\n",
    "## 查找类函数\n",
    "- 字符串查找类，find，index，islower\n",
    "    - find：查找一个字符串中是否包含一个子串\n",
    "    - index：跟find不同一点就是，如果没有到找直接报错\n",
    "    - rfind,lfind:从右边开始查找、从左边开始查找"
   ]
  },
  {
   "cell_type": "code",
   "execution_count": 31,
   "metadata": {},
   "outputs": [
    {
     "data": {
      "text/plain": [
       "19"
      ]
     },
     "execution_count": 31,
     "metadata": {},
     "output_type": "execute_result"
    }
   ],
   "source": [
    "#find\n",
    "s=\"Liu Dana love Wang Xiaojing and Zhang Xiaojing\"\n",
    "s1=\"Xiaojing\"\n",
    "\n",
    "s.find(s1) #返回第一次发现这个字符串的位置\n",
    "#如果没有找到这个子串则返回-1"
   ]
  },
  {
   "cell_type": "code",
   "execution_count": 32,
   "metadata": {},
   "outputs": [
    {
     "data": {
      "text/plain": [
       "38"
      ]
     },
     "execution_count": 32,
     "metadata": {},
     "output_type": "execute_result"
    }
   ],
   "source": [
    "#使用时还可以使用区间\n",
    "s=\"Liu Dana love Wang Xiaojing and Zhang Xiaojing\"\n",
    "s1=\"Xiaojing\"\n",
    "#以下表示从25开始查找\n",
    "s.find(s1,25)"
   ]
  },
  {
   "cell_type": "markdown",
   "metadata": {},
   "source": [
    "## 判断类函数\n",
    "- 此类函数的特点是一般都用is开通，比如islower\n",
    "- isalpha：判断是否是全是字母，需要注意的两点：\n",
    "    - 此函数默认的前提是字符串至少包含一个字符，如果没有，同样返False\n",
    "    - 汉子被认为是alpha，所有此函数不能作为区分英文字幕还是汉子的标识，区分中英文使用Unicode码\n",
    "- isdigit,isnumeric,isdecimal 三个判断数字的函数\n",
    "    - 此类函数不建议使用，在后期爬虫中，判断是否是数字使用正则表达式\n",
    "- islower：判断是否小写\n",
    "    "
   ]
  },
  {
   "cell_type": "code",
   "execution_count": 3,
   "metadata": {},
   "outputs": [
    {
     "name": "stdout",
     "output_type": "stream",
     "text": [
      "False\n",
      "True\n",
      "False\n"
     ]
    }
   ],
   "source": [
    "# 需要注意的事，因为输入法的问题，输入罗马数字能得不到我们想要的结果\n",
    "chin_num = \"一二三四\"\n",
    "print(chin_num.isdigit())\n",
    "print(chin_num.isnumeric())\n",
    "print(chin_num.isdecimal())"
   ]
  },
  {
   "cell_type": "markdown",
   "metadata": {},
   "source": [
    "## 内容判断类\n",
    "- startswith/endswith:是否以xxx开头\n",
    "    - 检测一个字符串是否以某个字符串开头，常用三个参数\n",
    "    - suffix：被检查的字符必须有\n",
    "    - start：检查范围的开始范围\n",
    "    - end：检查范围的结束范围"
   ]
  },
  {
   "cell_type": "code",
   "execution_count": 8,
   "metadata": {},
   "outputs": [
    {
     "name": "stdout",
     "output_type": "stream",
     "text": [
      "True\n",
      "False\n"
     ]
    }
   ],
   "source": [
    "dana = \"Liu Dana\"\n",
    "xiaojing = \"Xiao Jing\"\n",
    "\n",
    "s=\"Liu Dana really love wang xiaojing\"\n",
    "print(s.startswith(dana))\n",
    "print(s.endswith(xiaojing)) #大小写字符不一样"
   ]
  },
  {
   "cell_type": "markdown",
   "metadata": {},
   "source": [
    "## 操作类函数\n",
    "- format：格式化用的\n",
    "- strip：这个函数主要作用是删除字符串两边的空格，其实这个函数允许你去定义删除字符串两边的哪个字符，只不过如果不指定的话默认是空格。同样的还有lstrip和rsyrip，此处的l和r分别表示左边和右边，即删除字符串左边或者右边指定字符，默认是空格，此处的删除不是删除一个，是指从头开始符合条件的连续字符。\n",
    "- jion:这个函数主要是对字符串进行拼接。它需要一个可以叠戴的内容作为参数，功能室把可迭代的字符串拼接在一起，中间使用调用字符串作为分隔符。"
   ]
  },
  {
   "cell_type": "code",
   "execution_count": 12,
   "metadata": {},
   "outputs": [
    {
     "name": "stdout",
     "output_type": "stream",
     "text": [
      "DDDDana love wangxiaojing\n",
      "ana love wangxiaojing ----"
     ]
    }
   ],
   "source": [
    "c = \"DDDDana love wangxiaojing \"\n",
    "#是否成功删除空格不能观察出来\n",
    "print(c.strip())\n",
    "print(c.strip('D'),end=\"----\")"
   ]
  },
  {
   "cell_type": "code",
   "execution_count": 15,
   "metadata": {},
   "outputs": [
    {
     "name": "stdout",
     "output_type": "stream",
     "text": [
      "I$Love$Python\n",
      "I-Love-Python\n",
      "I Love Python\n"
     ]
    }
   ],
   "source": [
    "#join的例子，我们使用s1，s2，s3作为分隔符把ss的内容拼接在一起\n",
    "s1 = \"$\"\n",
    "s2 = \"-\"\n",
    "s3 = \" \"\n",
    "ss=[\"I\",\"Love\",\"Python\"]\n",
    "print(s1.join(ss))\n",
    "print(s2.join(ss))\n",
    "print(s3.join(ss))"
   ]
  },
  {
   "cell_type": "markdown",
   "metadata": {},
   "source": [
    "## list列表\n",
    "- 一组由有序数据做成的序列\n",
    "     - 数据有先后顺序\n",
    "     - 数据可以不是一类数据\n",
    "- listd 创建\n",
    "    - 直接创建，用中括号创建，内容直接用英文逗号隔开\n",
    "    - 使用list()函数\n"
   ]
  },
  {
   "cell_type": "code",
   "execution_count": 17,
   "metadata": {},
   "outputs": [
    {
     "name": "stdout",
     "output_type": "stream",
     "text": [
      "[1, 2, 3, 4, 5] [1, 2, 3, 'xiaojing', '大拿']\n"
     ]
    }
   ],
   "source": [
    "L1 = [1,2,3,4,5]\n",
    "\n",
    "L2 = [1,2,3,\"xiaojing\",\"大拿\"]\n",
    "\n",
    "print(L1,L2)"
   ]
  },
  {
   "cell_type": "markdown",
   "metadata": {},
   "source": [
    "# 列表的常见操作\n",
    "- 访问\n",
    "    - 使用下标操作，也叫索引\n",
    "    - 列表的元素索引是从0开始\n",
    "- 切片操作\n",
    "    - 对列表进行任意一点的截取\n",
    "    - 截取之后，创建一个新的列表"
   ]
  },
  {
   "cell_type": "code",
   "execution_count": 18,
   "metadata": {},
   "outputs": [
    {
     "name": "stdout",
     "output_type": "stream",
     "text": [
      "4\n"
     ]
    }
   ],
   "source": [
    "L1 = [1,2,3,4,5,67,8,45,]\n",
    "# 使用下标访问\n",
    "print(L1[3])"
   ]
  },
  {
   "cell_type": "code",
   "execution_count": 24,
   "metadata": {},
   "outputs": [
    {
     "name": "stdout",
     "output_type": "stream",
     "text": [
      "[10, 20, 30, 40, 50]\n",
      "[20, 30, 40, 50, 60]\n",
      "[10, 20, 30, 40]\n",
      "[50, 60, 70, 80, 90, 100]\n",
      "[10, 20, 30, 40, 50, 60, 70, 80, 90, 100]\n"
     ]
    }
   ],
   "source": [
    "# 切片操作需要注意取值范围，左包括右不包括\n",
    "L1=[10,20,30,40,50,60,70,80,90,100]\n",
    "print(L1[0:5])\n",
    "print(L1[1:6])\n",
    "\n",
    "# 切片下标可以为空\n",
    "print(L1[:4])\n",
    "print(L1[4:])\n",
    "print(L1[:])"
   ]
  },
  {
   "cell_type": "code",
   "execution_count": 26,
   "metadata": {},
   "outputs": [
    {
     "name": "stdout",
     "output_type": "stream",
     "text": [
      "[10, 20, 30, 40, 50, 60, 70, 80, 90, 100]\n",
      "[10, 30, 50, 70, 90]\n",
      "[20, 30, 40, 50, 60, 70, 80, 90, 100]\n"
     ]
    }
   ],
   "source": [
    "# 切片可以控制增长幅度，默认增幅为1\n",
    "L1=[10,20,30,40,50,60,70,80,90,100]\n",
    "print(L1[::1])\n",
    "print(L1[::2])\n",
    "#下标可以超出范围，超出后不再考虑多余下标的内容\n",
    "print(L1[1:100])"
   ]
  },
  {
   "cell_type": "code",
   "execution_count": 30,
   "metadata": {},
   "outputs": [
    {
     "name": "stdout",
     "output_type": "stream",
     "text": [
      "[60, 70, 80]\n",
      "[90, 80, 70]\n",
      "[70, 80, 90]\n"
     ]
    }
   ],
   "source": [
    "#下标值，增长幅度可以为负数\n",
    "#下标为负数，表示顺序是从右往左\n",
    "#规定：数组最后一个数字的下标是-1\n",
    "L1=[10,20,30,40,50,60,70,80,90,100]\n",
    "print(L1[-5:-2])\n",
    "print(L1[-2:-5:-1])#打印的从右往左显示，左包括右不包括\n",
    "print(L1[-4:-1:1])#左包括右不包括"
   ]
  },
  {
   "cell_type": "markdown",
   "metadata": {},
   "source": [
    "# tuple(元组)\n",
    "- 可以理解为一个不允许更改的列表"
   ]
  },
  {
   "cell_type": "code",
   "execution_count": 10,
   "metadata": {},
   "outputs": [
    {
     "name": "stdout",
     "output_type": "stream",
     "text": [
      "<class 'tuple'>\n",
      "<class 'int'>\n",
      "<class 'tuple'>\n",
      "<class 'tuple'>\n",
      "<class 'tuple'>\n",
      "()\n",
      "(1, 2, 3, 4, 5)\n"
     ]
    }
   ],
   "source": [
    "# tuple的创建\n",
    "#1.直接用小括号\n",
    "ta = ()\n",
    "print(type(ta))\n",
    "#当时用小括号创建一个元素的tuple的时候\n",
    "tb = (100)\n",
    "print(type(tb))\n",
    "tc = (100,)\n",
    "print(type(tc))\n",
    "\n",
    "# 2.直接用逗号\n",
    "ta = 100,\n",
    "print(type(ta))\n",
    "tb = 100,200,300,\n",
    "print(type(tb))\n",
    "\n",
    "# 3.使用tuple的定义\n",
    "ta = tuple()\n",
    "print(ta)\n",
    "\n",
    "li = [1,2,3,4,5]\n",
    "tb = tuple(li)#要求tuple的参数必须可以迭代\n",
    "print(tb)"
   ]
  },
  {
   "cell_type": "markdown",
   "metadata": {},
   "source": [
    "## tuple其余特征跟list基本一致\n",
    "- 有序\n",
    "- 可以访问不可被修改\n",
    "- 元素可以是任意类型\n",
    "- 切片操作跟list基本一致"
   ]
  },
  {
   "cell_type": "code",
   "execution_count": 12,
   "metadata": {},
   "outputs": [
    {
     "name": "stdout",
     "output_type": "stream",
     "text": [
      "(100, 200, 300, 'I', 'Love', 'Python')\n",
      "('I', 'Love', 'Python', 'I', 'Love', 'Python')\n"
     ]
    }
   ],
   "source": [
    "# 元组的相加\n",
    "ta = 100,200,300\n",
    "tb = (\"I\",\"Love\",\"Python\")\n",
    "tc = ta + tb\n",
    "print(tc)\n",
    "\n",
    "#tuple乘法\n",
    "\n",
    "tc = tb * 2\n",
    "print(tc)"
   ]
  },
  {
   "cell_type": "code",
   "execution_count": 13,
   "metadata": {},
   "outputs": [
    {
     "name": "stdout",
     "output_type": "stream",
     "text": [
      "('I', 'Love', 'Python')\n",
      "Ture\n"
     ]
    }
   ],
   "source": [
    "# tupel 成员检测\n",
    "print(tb)\n",
    "\n",
    "if \"Python\" in tb:\n",
    "    print(\"Ture\")"
   ]
  },
  {
   "cell_type": "code",
   "execution_count": 14,
   "metadata": {},
   "outputs": [
    {
     "name": "stdout",
     "output_type": "stream",
     "text": [
      "I\n",
      "Love\n",
      "Python\n"
     ]
    }
   ],
   "source": [
    "# 元组的遍历\n",
    "\n",
    "for i in tb:\n",
    "    print(i)"
   ]
  },
  {
   "cell_type": "code",
   "execution_count": 16,
   "metadata": {},
   "outputs": [
    {
     "name": "stdout",
     "output_type": "stream",
     "text": [
      "(10, 20, 30)\n",
      "10\n",
      "20\n",
      "30\n",
      "('I', 'Love', 'Pyton')\n",
      "I\n",
      "Love\n",
      "Pyton\n",
      "(1, 2, 3)\n",
      "1\n",
      "2\n",
      "3\n",
      "10 20 30\n",
      "I Love Pyton\n",
      "1 2 3\n"
     ]
    }
   ],
   "source": [
    "ta = ((10,20,30),(\"I\",\"Love\",\"Pyton\"),(1,2,3))\n",
    "#嵌套访问\n",
    "#使用双层循环\n",
    "for i in ta:\n",
    "    print(i)\n",
    "    for j in i:\n",
    "        print(j)\n",
    "#使用单层循环\n",
    "for i,j,k in ta:  #规定,i,j,k跟元组内的元素个数一致\n",
    "    print(i,j,k)"
   ]
  },
  {
   "cell_type": "code",
   "execution_count": 18,
   "metadata": {},
   "outputs": [
    {
     "name": "stdout",
     "output_type": "stream",
     "text": [
      "6\n",
      "6\n",
      "1\n"
     ]
    }
   ],
   "source": [
    "# 常用元组函数\n",
    "# len：长度\n",
    "ta = (1,2,3,4,5,6)\n",
    "print(len(ta))\n",
    "# max/min 取最大值/最小值\n",
    "print(max(ta))\n",
    "print(min(ta))"
   ]
  },
  {
   "cell_type": "code",
   "execution_count": 22,
   "metadata": {},
   "outputs": [
    {
     "name": "stdout",
     "output_type": "stream",
     "text": [
      "6\n",
      "0\n"
     ]
    }
   ],
   "source": [
    "# count:对某一元素计数\n",
    "ta = (1,2,3,4,5,6,6,6,6,6,6)\n",
    "print(ta.count(6))\n",
    "#index：某一元素所在的位置\n",
    "print(ta.index(1))"
   ]
  },
  {
   "cell_type": "code",
   "execution_count": 24,
   "metadata": {},
   "outputs": [
    {
     "name": "stdout",
     "output_type": "stream",
     "text": [
      "100 Python\n",
      "Python 100\n"
     ]
    }
   ],
   "source": [
    "# tuple的特殊用法\n",
    "a = 100\n",
    "b = \"Python\"\n",
    "# 要求对a，b进行互换\n",
    "# 仅限于Python\n",
    "print(a,b)\n",
    "a , b = b , a\n",
    "print(a,b)"
   ]
  },
  {
   "cell_type": "markdown",
   "metadata": {},
   "source": [
    "# 集合\n",
    "- 跟数学中集合的概念一致\n",
    "- 内容无序+内容不重复"
   ]
  },
  {
   "cell_type": "code",
   "execution_count": 32,
   "metadata": {},
   "outputs": [
    {
     "name": "stdout",
     "output_type": "stream",
     "text": [
      "set()\n",
      "{1, 2, 3}\n",
      "{1, 2, 3, 4}\n"
     ]
    }
   ],
   "source": [
    "# 集合的定义\n",
    "#1.通过set关键字\n",
    "sa = set() #空集合\n",
    "print(sa)\n",
    "li = [1,1,1,2,2,2,3,3,3,]\n",
    "sb = set(li)\n",
    "print(sb)\n",
    "\n",
    "#2.使用大括号\n",
    "sc={1,2,3,4,1,2,3,4,1,1,1}\n",
    "print(sc)"
   ]
  },
  {
   "cell_type": "code",
   "execution_count": 37,
   "metadata": {},
   "outputs": [
    {
     "name": "stdout",
     "output_type": "stream",
     "text": [
      "True\n",
      "1\n",
      "2\n",
      "3\n",
      "4\n",
      "7 8 9\n",
      "1 2 3\n",
      "4 5 6\n"
     ]
    }
   ],
   "source": [
    "# in 操作\n",
    "if 2 in sc:\n",
    "    print(\"True\")\n",
    "for i in sc: # 集合的遍历\n",
    "    print(i)\n",
    "sa = {(1,2,3),(4,5,6),(7,8,9)}\n",
    "for i,j,k in sa:\n",
    "    print(i,j,k)"
   ]
  },
  {
   "cell_type": "code",
   "execution_count": 42,
   "metadata": {},
   "outputs": [
    {
     "name": "stdout",
     "output_type": "stream",
     "text": [
      "{1, 2, 3, 4, 5, 6, 7, 8, 9, 10}\n",
      "{2, 4, 6, 8, 10}\n",
      "{64, 1, 4, 36, 100, 9, 16, 49, 81, 25}\n",
      "{1, 2, 3, 4, 5, 6, 7, 8, 9, 10, 12, 14, 15, 16, 18, 20, 21, 24, 25, 27, 28, 30, 32, 35, 36, 40, 42, 45, 48, 49, 50, 54, 56, 60, 63, 64, 70, 72, 80, 81, 90, 100}\n"
     ]
    }
   ],
   "source": [
    "# 集合的生成式\n",
    "sa = {1,2,3,4,5,6,7,8,9,10}\n",
    "#利用sa生成一个sb\n",
    "sb = {i for i in sa}\n",
    "print(sb)\n",
    "\n",
    "sc = {i for i in sa if i% 2 == 0}\n",
    "print(sc)\n",
    "#双重for循环\n",
    "#把sa中的每一个元素的平方生成一个新的集合\n",
    "#1.用一个for\n",
    "sd = {i**2 for i in sa}\n",
    "print(sd)\n",
    "#2.使用两个for\n",
    "se = {m*n for m in sa for n in sa}\n",
    "print(se)"
   ]
  },
  {
   "cell_type": "code",
   "execution_count": 45,
   "metadata": {},
   "outputs": [
    {
     "name": "stdout",
     "output_type": "stream",
     "text": [
      "42\n",
      "{1, 2, 3, 4, 5}\n",
      "None\n",
      "{1, 2, 3, 4, 5, 7}\n"
     ]
    }
   ],
   "source": [
    "# 集合的内置函数\n",
    "# len:长度\n",
    "print(len(se))\n",
    "# max/min:最值\n",
    "# add:向集合中添加元素\n",
    "sa = {1,2,3,4,5}\n",
    "print(sa)\n",
    "\n",
    "print(sa.add(7))\n",
    "print(sa)\n",
    "#clear:清除"
   ]
  },
  {
   "cell_type": "code",
   "execution_count": 48,
   "metadata": {},
   "outputs": [
    {
     "name": "stdout",
     "output_type": "stream",
     "text": [
      "{1, 2, 3, 4, 5}\n",
      "{1, 2, 3, 4}\n"
     ]
    }
   ],
   "source": [
    "# 删除操作\n",
    "# remove 和 discard的区别\n",
    "sa={1,2,3,4,5}\n",
    "print(sa)\n",
    "sa.remove(5)\n",
    "print(sa)\n",
    "# remove 删除不存在的元素，报错\n",
    "# sa.remove(5)\n",
    "sa.discard(5)"
   ]
  },
  {
   "cell_type": "code",
   "execution_count": 100,
   "metadata": {},
   "outputs": [
    {
     "name": "stdout",
     "output_type": "stream",
     "text": [
      "{1, 2, 3, 4, 5, 6}\n",
      "{2, 3, 4, 5, 6}\n"
     ]
    }
   ],
   "source": [
    "# pop弹出集合的一个内容\n",
    "# 删除的内容是随机的，没有规律\n",
    "sa = {1,2,3,4,5,6}\n",
    "print(sa)\n",
    "sa.pop()\n",
    "print(sa)"
   ]
  },
  {
   "cell_type": "code",
   "execution_count": 106,
   "metadata": {},
   "outputs": [
    {
     "name": "stdout",
     "output_type": "stream",
     "text": [
      "{2, 3, 4, 6}\n",
      "{1, 5}\n",
      "{1, 5}\n",
      "{1, 2, 3, 4, 5, 6, 100, 10, 20}\n"
     ]
    }
   ],
   "source": [
    "# 集合的数学操作\n",
    "# intersection ：交集\n",
    "sa = {1,2,3,4,5,6,}\n",
    "sb = {2,3,4,6,100,10,20}\n",
    "\n",
    "print(sa.intersection(sb))\n",
    "# difference差集\n",
    "print(sa.difference(sb))\n",
    "# 差集的另一种表示\n",
    "print(sa - sb)\n",
    "# union:并集\n",
    "print(sa.union(sb))"
   ]
  },
  {
   "cell_type": "markdown",
   "metadata": {},
   "source": [
    "# frozenset 冰冻集合\n",
    "- 不允许被修改的集合"
   ]
  },
  {
   "cell_type": "code",
   "execution_count": 107,
   "metadata": {},
   "outputs": [
    {
     "name": "stdout",
     "output_type": "stream",
     "text": [
      "{1, 2, 3, 4, 5, 6}\n",
      "frozenset({1, 2, 3, 4, 5, 6})\n"
     ]
    }
   ],
   "source": [
    "print(sa)\n",
    "sb = frozenset(sa)\n",
    "print(sb)"
   ]
  },
  {
   "cell_type": "markdown",
   "metadata": {},
   "source": [
    "# 递归函数\n",
    "- 递归，函数间接或者直接调用自己\n",
    "    - 往下调用，分解的过程\n",
    "    - 往上回溯，综合的过程\n",
    "- 递归需要注意\n",
    "    - 递归必须要有结束条件"
   ]
  },
  {
   "cell_type": "code",
   "execution_count": 118,
   "metadata": {},
   "outputs": [
    {
     "name": "stdout",
     "output_type": "stream",
     "text": [
      "f(5)= 120\n"
     ]
    }
   ],
   "source": [
    "def fun(n):\n",
    "    if n==1 or n == 0:\n",
    "        return 1\n",
    "    return n*fun(n-1)\n",
    "res = fun(5)\n",
    "print(\"f(5)=\",res)"
   ]
  },
  {
   "cell_type": "code",
   "execution_count": 122,
   "metadata": {},
   "outputs": [
    {
     "name": "stdout",
     "output_type": "stream",
     "text": [
      "55\n"
     ]
    }
   ],
   "source": [
    "# 斐波那契数列\n",
    "def fib(n):\n",
    "    if n==1 or n==2:\n",
    "        return 1\n",
    "    return fib(n-1)+fib(n-2)\n",
    "    "
   ]
  },
  {
   "cell_type": "code",
   "execution_count": 9,
   "metadata": {},
   "outputs": [
    {
     "name": "stdout",
     "output_type": "stream",
     "text": [
      "A-->C\n",
      "-------------\n",
      "A-->B\n",
      "A-->C\n",
      "C-->B\n",
      "A-->C\n",
      "B-->C\n",
      "B-->A\n",
      "A-->C\n"
     ]
    }
   ],
   "source": [
    "# 汉诺塔\n",
    "a = 'A'\n",
    "b = 'B'\n",
    "c = 'C'\n",
    "def hanno(a,b,c,n):\n",
    "    if n == 1:\n",
    "        print(\"{}-->{}\".format(a,c))\n",
    "        return None\n",
    "    if n == 2:\n",
    "        print(\"{}-->{}\".format(a,c))\n",
    "        print(\"{}-->{}\".format(a,b))\n",
    "        print(\"{}-->{}\".format(b,c))\n",
    "        return None\n",
    "    hanno(a,c,b,n-1)\n",
    "    print(\"{}-->{}\".format(a,c))\n",
    "    hanno(b,a,c,n-1)\n",
    "#只有一个盘子\n",
    "hanno(a,b,c,1)\n",
    "print(\"-------------\")\n",
    "hanno(a,b,c,3)"
   ]
  },
  {
   "cell_type": "markdown",
   "metadata": {},
   "source": [
    "# OOP\n",
    "- 思想\n",
    "    - 以模块化思维解决工程问题\n",
    "    - 面向过程 vs 面向对象\n",
    "    - 由面向过程转向面向对象\n",
    "- 常用名次\n",
    "    - oo：面向对象\n",
    "    - ooa：分析\n",
    "    - ood：设计\n",
    "    - oop：编程\n",
    "    - ooi：实现\n",
    "    - ooa-->ood-->ooi\n",
    "- 类 vs 对象\n",
    "    - 类：抽象，描述一个集合，侧重于共性\n",
    "    - 对象：具象，描述的是个体\n",
    "- 类的内容：\n",
    "    - 动作，函数\n",
    "    - 属性，变量\n",
    "- is-a\n",
    "\n",
    "\n",
    "- 定义类：class关键字\n",
    "- 类命名\n",
    "    - 遵循大驼峰"
   ]
  },
  {
   "cell_type": "code",
   "execution_count": 23,
   "metadata": {},
   "outputs": [
    {
     "name": "stdout",
     "output_type": "stream",
     "text": [
      "鸽鸽\n",
      "爱你呦\n"
     ]
    }
   ],
   "source": [
    "#定义一个类\n",
    "class Love():\n",
    "    pass\n",
    "# 定义一个对象\n",
    "gege = Love()\n",
    "\n",
    "class DarlingOfMine():\n",
    "    name = \"鸽鸽\"\n",
    "    def sayLove(self):\n",
    "        print(\"爱你呦\")\n",
    "        return None\n",
    "gege = DarlingOfMine()\n",
    "print(gege.name)\n",
    "gege.sayLove()#类中函数调用"
   ]
  },
  {
   "cell_type": "markdown",
   "metadata": {},
   "source": [
    "# self\n",
    "- self可以用别的名称代替\n",
    "- self不是关键字\n",
    "- 作用是指代本身"
   ]
  },
  {
   "cell_type": "markdown",
   "metadata": {},
   "source": [
    "# 类的变量作用域的问题\n",
    "- 类变量：属于类自己的变量\n",
    "- 实例变量：属于实例自己的变量\n",
    "- 访问实例的属性，如果实例没有定义属性，则自动范文类的属性，如果类也没有定义则报错"
   ]
  },
  {
   "cell_type": "markdown",
   "metadata": {},
   "source": [
    "# 访问类的属性\n",
    "- 在类里面如果要强制访问类的竖向，则要需使用\\_\\_class\\_\\_(注意前后两个下划线)\n",
    "- 类方法：\n",
    "    - 定义类的方法的时候，没有self函数\n",
    "    - 类的方法中只允许使用类的内容\n",
    "    - 两种方法\n",
    "        - ClassName\n",
    "        - \\_\\_class\\_\\_"
   ]
  },
  {
   "cell_type": "markdown",
   "metadata": {},
   "source": [
    "# 构造函数\n",
    "- 类在实体化的时候，执行一些基础性的初始化工作\n",
    "- 使用特殊的名称和写法 ：\\_\\_函数名\\_\\_\n",
    "- 在实例化的时候自动执行\n",
    "- 要求，第一个参数必须有，一般推荐self\n",
    "- 构造函数的调用时间：一般认为在实例化的时候第一个被调用\n",
    "- 一般不手动调用，实例化的时候自动调用，参数需要写入类名称后的括号\n"
   ]
  },
  {
   "cell_type": "code",
   "execution_count": 24,
   "metadata": {},
   "outputs": [
    {
     "name": "stdout",
     "output_type": "stream",
     "text": [
      "我是构造函数\n",
      "NoName\n"
     ]
    }
   ],
   "source": [
    "class Student():\n",
    "    name = \"NoName\"\n",
    "    age = 0\n",
    "    def __init__(self):\n",
    "        print(\"我是构造函数\")\n",
    "zhangsan = Student()\n",
    "print(zhangsan.name)"
   ]
  },
  {
   "cell_type": "markdown",
   "metadata": {},
   "source": [
    "# 面向对象的三大特征\n",
    "- 继承\n",
    "- 封装\n",
    "- 多态\n",
    "## 继承\n",
    "- 自雷可以使用父类定义的内容或者行为等\n",
    "- 继承的实现\n",
    "    - 父类，基类，超类：被继承的类，Base Class,Super Class\n",
    "    - 子类：有继承行为的类\n",
    "    - 所有的类都必须有一个父类\n",
    "        - 如果没有，则默认为object的子类"
   ]
  },
  {
   "cell_type": "code",
   "execution_count": 27,
   "metadata": {},
   "outputs": [
    {
     "name": "stdout",
     "output_type": "stream",
     "text": [
      "NonName\n"
     ]
    }
   ],
   "source": [
    "class Person():\n",
    "    name = \"NonName\"\n",
    "    age = 0\n",
    "#父类写在类定义的时候的括号里\n",
    "class Teacher(Person):\n",
    "    pass\n",
    "t = Teacher()\n",
    "print(t.name)"
   ]
  },
  {
   "cell_type": "markdown",
   "metadata": {},
   "source": [
    "## issubclass检测是否是子类\n",
    "- 可以用来检测两个类的父子关系\n"
   ]
  },
  {
   "cell_type": "code",
   "execution_count": 28,
   "metadata": {},
   "outputs": [
    {
     "name": "stdout",
     "output_type": "stream",
     "text": [
      "True\n"
     ]
    }
   ],
   "source": [
    "#检测刚才的 Person 和 Teacher的关系\n",
    "print(issubclass(Teacher,Person))"
   ]
  },
  {
   "cell_type": "markdown",
   "metadata": {},
   "source": [
    "## 构造函数的继承\n",
    "- 构造函数默认继承，子类如果没有构造函数，则自动调用父类的构造函数\n",
    "- 一旦子类定义了构造函数，则不再自动调用父类构造函数\n"
   ]
  },
  {
   "cell_type": "code",
   "execution_count": 35,
   "metadata": {},
   "outputs": [
    {
     "name": "stdout",
     "output_type": "stream",
     "text": [
      "Person=(NoName,0)\n"
     ]
    }
   ],
   "source": [
    "# 构造函数默认继承\n",
    "\n",
    "class Person():\n",
    "    def __init__(self,name,age):\n",
    "        print(\"Person=({},{})\".format(name,age))\n",
    "class Teacher(Person):\n",
    "    pass\n",
    "t = Teacher(\"NoName\",0)\n"
   ]
  }
 ],
 "metadata": {
  "kernelspec": {
   "display_name": "Python 3",
   "language": "python",
   "name": "python3"
  },
  "language_info": {
   "codemirror_mode": {
    "name": "ipython",
    "version": 3
   },
   "file_extension": ".py",
   "mimetype": "text/x-python",
   "name": "python",
   "nbconvert_exporter": "python",
   "pygments_lexer": "ipython3",
   "version": "3.8.5"
  }
 },
 "nbformat": 4,
 "nbformat_minor": 4
}
