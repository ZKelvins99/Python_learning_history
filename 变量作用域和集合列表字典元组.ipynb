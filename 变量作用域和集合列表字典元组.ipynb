{
 "cells": [
  {
   "cell_type": "markdown",
   "metadata": {},
   "source": [
    "# 变量作用域\n",
    "- 变量由作用范围限制\n",
    "- 分类：按照作用域分裂\n",
    "    - 全局（global）：在函数外部定义\n",
    "    - 局部（local）：在函数内部定义\n",
    "- 变量的作用范围：\n",
    "    - 全局变量：在整个全部范围都有效\n",
    "    - 全部变量在局部可以做哟经（即函数内部可以防卫函数外定义的变量）\n",
    "    - 局部变量在局部范围内可以使用\n",
    "    - 局部变量在全局范围无法使用\n",
    "- LEGB原则\n",
    "    - L(local）局部作用域\n",
    "    - E（Enclosing function locale）外部嵌套函数作用域\n",
    "    - G(Global module)函数定义所在模块作用域\n",
    "    - B（Bulidin）Python内置模块作用域"
   ]
  },
  {
   "cell_type": "markdown",
   "metadata": {},
   "source": [
    "## 提升局部变量为全局变量\n",
    "- 使用global提升为全局变量"
   ]
  },
  {
   "cell_type": "code",
   "execution_count": 9,
   "metadata": {},
   "outputs": [
    {
     "name": "stdout",
     "output_type": "stream",
     "text": [
      "2\n"
     ]
    }
   ],
   "source": [
    "#global关键字\n",
    "def demo1():\n",
    "    a=2\n",
    "demo1()\n",
    "#print(a)\n",
    " \n",
    "def demo2():\n",
    "    global b\n",
    "    b=2\n",
    "demo2()\n",
    "print(b)#2"
   ]
  },
  {
   "cell_type": "markdown",
   "metadata": {},
   "source": [
    "# globals，locals函数\n",
    "- 可以通过globals和locals函数显示出全局变量和局部变量\n"
   ]
  },
  {
   "cell_type": "code",
   "execution_count": 16,
   "metadata": {},
   "outputs": [
    {
     "name": "stdout",
     "output_type": "stream",
     "text": [
      "Locals={'c': 2, 'd': 3, 'e': 111}\n"
     ]
    }
   ],
   "source": [
    "# globals,locals\n",
    "a = 1\n",
    "b = 2\n",
    "\n",
    "def fun(c,d):\n",
    "    e = 111\n",
    "    print(\"Locals={0}\".format(locals()))\n",
    "    #print(\"Globals={0}\".format(globals()))\n",
    "fun(2,3)"
   ]
  },
  {
   "cell_type": "markdown",
   "metadata": {},
   "source": [
    "## eval()函数\n",
    "- 把一个字符串当成一个表达式来执行，返回执行后的结果\n",
    "- 语法\n",
    "        \n",
    "        eval(string_code,globals=None,locals=None)\n",
    "\n",
    "## exec()函数\n",
    "- 和eval功能类似，但是不会返回结果\n",
    "- 语法：\n",
    "        \n",
    "        exec(string_code,globals=None,locals=None)\n",
    "        "
   ]
  },
  {
   "cell_type": "code",
   "execution_count": 17,
   "metadata": {},
   "outputs": [
    {
     "name": "stdout",
     "output_type": "stream",
     "text": [
      "300\n",
      "300\n"
     ]
    }
   ],
   "source": [
    "# eval函数\n",
    "x = 100\n",
    "y = 200\n",
    "#执行 x + y\n",
    "z1 = x + y\n",
    "z2 = eval(\"x + y\")\n",
    "\n",
    "print(z1)\n",
    "print(z2)"
   ]
  },
  {
   "cell_type": "code",
   "execution_count": 20,
   "metadata": {},
   "outputs": [
    {
     "name": "stdout",
     "output_type": "stream",
     "text": [
      "x+y: 300\n",
      "300\n",
      "None\n"
     ]
    }
   ],
   "source": [
    "#exec函数\n",
    "x = 100\n",
    "y = 200\n",
    "#执行 x + y\n",
    "z1 = x + y\n",
    "#1.注意字符串中引号的用法\n",
    "#2.比对exec执行的结果和代码执行结果\n",
    "z2 = exec(\"print('x+y:',x+y)\")\n",
    "\n",
    "print(z1)\n",
    "print(z2)"
   ]
  },
  {
   "cell_type": "markdown",
   "metadata": {},
   "source": [
    "# 递归函数\n",
    "- 函数直接或者间接调用自己\n",
    "- 优点：间接，理解容易\n",
    "- 缺点：对递归深度有限制，消耗资源大\n",
    "- Python对递归深度有限制，超过限制报错\n",
    "- 在写递归程序的时候，一定要有结束条件"
   ]
  },
  {
   "cell_type": "code",
   "execution_count": 7,
   "metadata": {},
   "outputs": [
    {
     "name": "stdout",
     "output_type": "stream",
     "text": [
      "输入自然数:10\n",
      "1 1 2 3 5 8 13 21 34 55 "
     ]
    }
   ],
   "source": [
    "# 斐波那契数列\n",
    "# 一列数字，第一个值和第二个值的都是1，从第三个数字开始，每一个数字等于前两个数字之和\n",
    "# 数学公式为：f(1)=1,f(2)=1,f(n)=f(n-1)+f(n-2)\n",
    "# 例如：1,1,2,3,5,8\n",
    "n = int(input(\"输入自然数:\"))\n",
    "i=1\n",
    "def fib(n):\n",
    "    if n == 1 or n == 2:\n",
    "        return 1\n",
    "    return fib(n-1)+fib(n-2)\n",
    "while i<=n:\n",
    "    print(fib(i),end = \" \")\n",
    "    i +=1"
   ]
  },
  {
   "cell_type": "markdown",
   "metadata": {},
   "source": [
    "## 汉诺塔\n",
    "- 规则\n",
    "    - 1 .每次移动一个盘子\n",
    "    - 2.任何时候大盘子在下，小盘子在上\n",
    "- 方法：\n",
    "    - 1.n=1：直接把A上的盘子移动到C，A->C\n",
    "    - 2.n=2：\n",
    "        - A.把小盘子从A放到B上，A->B\n",
    "        - B.把大盘子从A放到C上，A->C\n",
    "        - C.把小盘子从B放到C上，B->C\n",
    "    - 3.n=3：\n",
    "        - A.把A上的两个盘子，通过C移动到B上，调用递归实现\n",
    "        - B.把A上剩下的一个最大的盘子移动到C上\n",
    "        - C.把B上的两个盘子，借助A，移动到C上，调用递归\n",
    "    - 4.n=4:\n",
    "        - A.把A上的n-1个盘子，借助于C，移动到B上去，调用递归\n",
    "        - B.把A上最大的盘子，移动到C上\n",
    "        - C.把B上n-1个盘子，借助于A，移动到C上，调用递归"
   ]
  },
  {
   "cell_type": "code",
   "execution_count": 7,
   "metadata": {},
   "outputs": [
    {
     "name": "stdout",
     "output_type": "stream",
     "text": [
      "A --> C\n",
      "A --> B\n",
      "C --> B\n",
      "A --> C\n",
      "A --> B\n",
      "C --> B\n",
      "A --> C\n",
      "B --> A\n",
      "B --> C\n",
      "A --> C\n",
      "B --> A\n",
      "B --> C\n",
      "A --> C\n"
     ]
    }
   ],
   "source": [
    "def hano(n,a,b,c):\n",
    "    '''\n",
    "    汉诺塔递归实现\n",
    "    n：代表几个盘子\n",
    "    a：代表第一个塔，开始的塔\n",
    "    b：代表第二个塔，过渡的塔\n",
    "    c：代表第三个塔，目标塔\n",
    "    '''\n",
    "    if n == 1:\n",
    "        print(a,\"-->\",c)\n",
    "        return None\n",
    "    if n == 2:\n",
    "        print(a,\"-->\",b)\n",
    "        print(a,\"-->\",c)\n",
    "        print(b,\"-->\",c)\n",
    "    #把n-1和盘子，从a塔借助于c塔，挪到b塔上去\n",
    "    hano(n-1,a,c,b)\n",
    "    print(a,\"-->\",c)\n",
    "    #把n-1和盘子，从b塔，借助于a塔，挪到c塔上去\n",
    "    hano( n-1,b,a,c)\n",
    "\n",
    "a = \"A\"\n",
    "b = \"B\"\n",
    "c = \"C\"\n",
    "\n",
    "n = 3\n",
    "hano(n,a,b,c)"
   ]
  },
  {
   "cell_type": "markdown",
   "metadata": {},
   "source": [
    "# 内置数据结构（变量类型）\n",
    "- list\n",
    "- set\n",
    "- dict\n",
    "- tuple\n",
    "\n",
    "    "
   ]
  },
  {
   "cell_type": "markdown",
   "metadata": {},
   "source": [
    "## list（列表）\n",
    "- 一组有顺序数据的组合\n",
    "- 创建列表\n",
    "    - 空列表 L1 = []\n",
    "    - 列表 L2 = [1,2,3,4]  L3 = list()\n",
    "    \n",
    "## 列表的常用操作\n",
    "- 访问\n",
    "    - 使用下标操作（索引）\n",
    "    - 列表的位置是从0开始\n",
    "- 分片操作\n",
    "    - 对列表进行任意一段的截取\n",
    "    - 例如  L1[1:3]  左包括右不包括，下标可以为空，左边默认为零，右边为最大数量，即表示截取到最后一个数据\n",
    "    - 分片操作可以控制增长幅度 L2[1:6:2] (打印下标1到6幅度为2)\n",
    "    - 下标可以超出范围，超出范围后的内容不考虑\n",
    "    - 下标可以为负数，规定左边最后后一个数字是-1，依次从左往右递减\n",
    "        - 增幅为空。默认分片从左往右\n",
    "        - 正常情况，分片左边的值一定小于右边的值\n",
    "        - 如果分分片一定左边值比右边值打，则增幅参数使用负数\n",
    "    - 分片操作是创建一个新的list\n",
    "        - 内置函数 id，负责显示一个变量或者数据唯一确定的编号\n",
    "- del：删除命令\n",
    "    - 删除指定下标的元素、删除变量\n",
    "    - 删除完的列表还是原来的列表\n",
    "- 列表相加\n",
    "    - 使用加号链接两个列表，c = a + b\n",
    "    - 使用乘号重复列表n次，c = a * 3\n",
    "- 列表的遍历\n",
    "    - for\n",
    "    - while\n",
    "        - 一般不使用while访问列表\n"
   ]
  },
  {
   "cell_type": "code",
   "execution_count": 11,
   "metadata": {},
   "outputs": [
    {
     "name": "stdout",
     "output_type": "stream",
     "text": [
      "1\n",
      "2\n",
      "3\n",
      "4\n",
      "5\n",
      "6\n"
     ]
    }
   ],
   "source": [
    "# 使用while遍历列表\n",
    "a = [1,2,3,4,5,6,]\n",
    "index = 0\n",
    "while index < len(a):\n",
    "    print(a[index])\n",
    "    index+=1"
   ]
  },
  {
   "cell_type": "markdown",
   "metadata": {},
   "source": [
    "## 列表内涵：list content\n",
    "- 通过简单方法创建列表\n",
    "\n"
   ]
  },
  {
   "cell_type": "code",
   "execution_count": 19,
   "metadata": {},
   "outputs": [
    {
     "name": "stdout",
     "output_type": "stream",
     "text": [
      "['a', 'b', 'c']\n",
      "[10, 20, 30, 40, 50]\n",
      "[2, 4, 6, 8, 10, 12, 14, 16, 18, 20, 22, 24, 26, 28, 30, 32, 34]\n"
     ]
    }
   ],
   "source": [
    "# for 创建\n",
    "\n",
    "a = ['a','b','c']\n",
    "#用list a创建一个list b\n",
    "#对于所有a中元素，逐个放入新列表b中\n",
    "b = [i for i in a]\n",
    "print(b)\n",
    "\n",
    "#对于a中所有的元素乘以1-生成一个新列表\n",
    "a = [1,2,3,4,5]\n",
    "b = [i*10 for i in a]\n",
    "print(b)\n",
    "\n",
    "#还可以过滤原来的list中的内容放到新列表中\n",
    "#比如原有列表a，需要把所有列表中的偶数生成到新的列表b中\n",
    "a = [X for X in range(1,35)]\n",
    "b = [m for m in a if m%2 == 0]\n",
    "print(b)"
   ]
  },
  {
   "cell_type": "code",
   "execution_count": 25,
   "metadata": {},
   "outputs": [
    {
     "name": "stdout",
     "output_type": "stream",
     "text": [
      "[1, 2]\n",
      "[100, 200]\n",
      "[101, 201, 102, 202]\n"
     ]
    }
   ],
   "source": [
    "# 列表生成也可嵌套\n",
    "a = [i for i in range(1,3)]#生成list\n",
    "print(a)\n",
    "\n",
    "b = [i for i in range(100,300)if i %100 == 0]\n",
    "print(b)\n",
    "\n",
    "c=[m+n for m in a for n in b]\n",
    "'''\n",
    "等价于\n",
    "for m in a:\n",
    "    for n in b:\n",
    "        print(m+n,end=' ')\n",
    "'''\n",
    "print(c)"
   ]
  },
  {
   "cell_type": "markdown",
   "metadata": {},
   "source": [
    "## 列表常用函数\n",
    "- len：求列表的长度\n",
    "- max：求列表中的最大值\n",
    "- list：将其他格式的数据转化为list"
   ]
  },
  {
   "cell_type": "code",
   "execution_count": null,
   "metadata": {},
   "outputs": [],
   "source": []
  }
 ],
 "metadata": {
  "kernelspec": {
   "display_name": "Python 3",
   "language": "python",
   "name": "python3"
  },
  "language_info": {
   "codemirror_mode": {
    "name": "ipython",
    "version": 3
   },
   "file_extension": ".py",
   "mimetype": "text/x-python",
   "name": "python",
   "nbconvert_exporter": "python",
   "pygments_lexer": "ipython3",
   "version": "3.8.5"
  }
 },
 "nbformat": 4,
 "nbformat_minor": 4
}
